{
 "cells": [
  {
   "cell_type": "markdown",
   "id": "024a8271-b25d-43f3-819c-c4ebdc94d9a9",
   "metadata": {},
   "source": [
    "# PROJECT - CHD"
   ]
  },
  {
   "cell_type": "markdown",
   "id": "61bac3b0-a2e2-469a-af66-c9035a802576",
   "metadata": {},
   "source": [
    "THESE ARE THE FEATURES \n",
    "\n",
    " - male: Indicates gender (1 for male, 0 for female).\n",
    " - age: Age of the individual.\n",
    " - education: Likely a categorical variable representing education levels.\n",
    " - currentSmoker: Whether the individual is a current smoker (1 for yes, 0 for no).\n",
    " - cigsPerDay: Average number of cigarettes smoked per day.\n",
    " - BPMeds: Whether the individual is on blood pressure medication (1 for yes, 0 for no).\n",
    " - prevalentStroke: History of stroke (1 for yes, 0 for no).\n",
    " - prevalentHyp: History of hypertension (high blood pressure) (1 for yes, 0 for no).\n",
    " - diabetes: Whether the individual has diabetes (1 for yes, 0 for no).\n",
    " - totChol: Total cholesterol level.\n",
    " - sysBP: Systolic blood pressure.\n",
    " - diaBP: Diastolic blood pressure.\n",
    " - BMI: Body Mass Index.\n",
    " - heartRate: Heart rate (beats per minute).\n",
    " - glucose: Blood glucose level.\n",
    " - TenYearCHD: The target variable indicating the 10-year risk of CHD.\n",
    "\n"
   ]
  },
  {
   "cell_type": "markdown",
   "id": "a51c8917-986d-4dd9-aff0-fa52273cc2af",
   "metadata": {},
   "source": [
    "### License \n",
    "\n",
    "  data sets : https://www.kaggle.com/datasets/dileep070/heart-disease-prediction-using-logistic-regression?resource=download\n",
    "\n",
    "\n",
    "  lower the threshold\n",
    "Since the model is predicting Heart disease too many type II errors is not advisable. A False Negative ( ignoring the probability of disease when there actually is one) is more dangerous than a False Positive in this case. Hence in order to increase the sensitivity, threshold can be lowered."
   ]
  },
  {
   "cell_type": "markdown",
   "id": "8fec12c5-a4e3-4794-a956-c922184bde63",
   "metadata": {},
   "source": [
    "# DATA COLLECTION"
   ]
  },
  {
   "cell_type": "code",
   "execution_count": 18,
   "id": "d243a2d7-65d6-4f13-80e5-882e03c94b0e",
   "metadata": {},
   "outputs": [],
   "source": [
    "import numpy as np\n",
    "import pandas as pd\n",
    "import matplotlib.pyplot as plt\n",
    "import seaborn as sns"
   ]
  },
  {
   "cell_type": "code",
   "execution_count": 81,
   "id": "9689b366-21e1-4b3e-9d50-a27f406952bf",
   "metadata": {},
   "outputs": [],
   "source": [
    "df = pd.read_csv('framingham.csv')"
   ]
  },
  {
   "cell_type": "code",
   "execution_count": 82,
   "id": "4cbcc3e4-5d5a-4d14-a44a-bfa4b751160f",
   "metadata": {},
   "outputs": [
    {
     "data": {
      "text/html": [
       "<div>\n",
       "<style scoped>\n",
       "    .dataframe tbody tr th:only-of-type {\n",
       "        vertical-align: middle;\n",
       "    }\n",
       "\n",
       "    .dataframe tbody tr th {\n",
       "        vertical-align: top;\n",
       "    }\n",
       "\n",
       "    .dataframe thead th {\n",
       "        text-align: right;\n",
       "    }\n",
       "</style>\n",
       "<table border=\"1\" class=\"dataframe\">\n",
       "  <thead>\n",
       "    <tr style=\"text-align: right;\">\n",
       "      <th></th>\n",
       "      <th>male</th>\n",
       "      <th>age</th>\n",
       "      <th>education</th>\n",
       "      <th>currentSmoker</th>\n",
       "      <th>cigsPerDay</th>\n",
       "      <th>BPMeds</th>\n",
       "      <th>prevalentStroke</th>\n",
       "      <th>prevalentHyp</th>\n",
       "      <th>diabetes</th>\n",
       "      <th>totChol</th>\n",
       "      <th>sysBP</th>\n",
       "      <th>diaBP</th>\n",
       "      <th>BMI</th>\n",
       "      <th>heartRate</th>\n",
       "      <th>glucose</th>\n",
       "      <th>TenYearCHD</th>\n",
       "    </tr>\n",
       "  </thead>\n",
       "  <tbody>\n",
       "    <tr>\n",
       "      <th>0</th>\n",
       "      <td>1</td>\n",
       "      <td>39</td>\n",
       "      <td>4.0</td>\n",
       "      <td>0</td>\n",
       "      <td>0.0</td>\n",
       "      <td>0.0</td>\n",
       "      <td>0</td>\n",
       "      <td>0</td>\n",
       "      <td>0</td>\n",
       "      <td>195.0</td>\n",
       "      <td>106.0</td>\n",
       "      <td>70.0</td>\n",
       "      <td>26.97</td>\n",
       "      <td>80.0</td>\n",
       "      <td>77.0</td>\n",
       "      <td>0</td>\n",
       "    </tr>\n",
       "    <tr>\n",
       "      <th>1</th>\n",
       "      <td>0</td>\n",
       "      <td>46</td>\n",
       "      <td>2.0</td>\n",
       "      <td>0</td>\n",
       "      <td>0.0</td>\n",
       "      <td>0.0</td>\n",
       "      <td>0</td>\n",
       "      <td>0</td>\n",
       "      <td>0</td>\n",
       "      <td>250.0</td>\n",
       "      <td>121.0</td>\n",
       "      <td>81.0</td>\n",
       "      <td>28.73</td>\n",
       "      <td>95.0</td>\n",
       "      <td>76.0</td>\n",
       "      <td>0</td>\n",
       "    </tr>\n",
       "    <tr>\n",
       "      <th>2</th>\n",
       "      <td>1</td>\n",
       "      <td>48</td>\n",
       "      <td>1.0</td>\n",
       "      <td>1</td>\n",
       "      <td>20.0</td>\n",
       "      <td>0.0</td>\n",
       "      <td>0</td>\n",
       "      <td>0</td>\n",
       "      <td>0</td>\n",
       "      <td>245.0</td>\n",
       "      <td>127.5</td>\n",
       "      <td>80.0</td>\n",
       "      <td>25.34</td>\n",
       "      <td>75.0</td>\n",
       "      <td>70.0</td>\n",
       "      <td>0</td>\n",
       "    </tr>\n",
       "    <tr>\n",
       "      <th>3</th>\n",
       "      <td>0</td>\n",
       "      <td>61</td>\n",
       "      <td>3.0</td>\n",
       "      <td>1</td>\n",
       "      <td>30.0</td>\n",
       "      <td>0.0</td>\n",
       "      <td>0</td>\n",
       "      <td>1</td>\n",
       "      <td>0</td>\n",
       "      <td>225.0</td>\n",
       "      <td>150.0</td>\n",
       "      <td>95.0</td>\n",
       "      <td>28.58</td>\n",
       "      <td>65.0</td>\n",
       "      <td>103.0</td>\n",
       "      <td>1</td>\n",
       "    </tr>\n",
       "    <tr>\n",
       "      <th>4</th>\n",
       "      <td>0</td>\n",
       "      <td>46</td>\n",
       "      <td>3.0</td>\n",
       "      <td>1</td>\n",
       "      <td>23.0</td>\n",
       "      <td>0.0</td>\n",
       "      <td>0</td>\n",
       "      <td>0</td>\n",
       "      <td>0</td>\n",
       "      <td>285.0</td>\n",
       "      <td>130.0</td>\n",
       "      <td>84.0</td>\n",
       "      <td>23.10</td>\n",
       "      <td>85.0</td>\n",
       "      <td>85.0</td>\n",
       "      <td>0</td>\n",
       "    </tr>\n",
       "    <tr>\n",
       "      <th>...</th>\n",
       "      <td>...</td>\n",
       "      <td>...</td>\n",
       "      <td>...</td>\n",
       "      <td>...</td>\n",
       "      <td>...</td>\n",
       "      <td>...</td>\n",
       "      <td>...</td>\n",
       "      <td>...</td>\n",
       "      <td>...</td>\n",
       "      <td>...</td>\n",
       "      <td>...</td>\n",
       "      <td>...</td>\n",
       "      <td>...</td>\n",
       "      <td>...</td>\n",
       "      <td>...</td>\n",
       "      <td>...</td>\n",
       "    </tr>\n",
       "    <tr>\n",
       "      <th>4233</th>\n",
       "      <td>1</td>\n",
       "      <td>50</td>\n",
       "      <td>1.0</td>\n",
       "      <td>1</td>\n",
       "      <td>1.0</td>\n",
       "      <td>0.0</td>\n",
       "      <td>0</td>\n",
       "      <td>1</td>\n",
       "      <td>0</td>\n",
       "      <td>313.0</td>\n",
       "      <td>179.0</td>\n",
       "      <td>92.0</td>\n",
       "      <td>25.97</td>\n",
       "      <td>66.0</td>\n",
       "      <td>86.0</td>\n",
       "      <td>1</td>\n",
       "    </tr>\n",
       "    <tr>\n",
       "      <th>4234</th>\n",
       "      <td>1</td>\n",
       "      <td>51</td>\n",
       "      <td>3.0</td>\n",
       "      <td>1</td>\n",
       "      <td>43.0</td>\n",
       "      <td>0.0</td>\n",
       "      <td>0</td>\n",
       "      <td>0</td>\n",
       "      <td>0</td>\n",
       "      <td>207.0</td>\n",
       "      <td>126.5</td>\n",
       "      <td>80.0</td>\n",
       "      <td>19.71</td>\n",
       "      <td>65.0</td>\n",
       "      <td>68.0</td>\n",
       "      <td>0</td>\n",
       "    </tr>\n",
       "    <tr>\n",
       "      <th>4235</th>\n",
       "      <td>0</td>\n",
       "      <td>48</td>\n",
       "      <td>2.0</td>\n",
       "      <td>1</td>\n",
       "      <td>20.0</td>\n",
       "      <td>NaN</td>\n",
       "      <td>0</td>\n",
       "      <td>0</td>\n",
       "      <td>0</td>\n",
       "      <td>248.0</td>\n",
       "      <td>131.0</td>\n",
       "      <td>72.0</td>\n",
       "      <td>22.00</td>\n",
       "      <td>84.0</td>\n",
       "      <td>86.0</td>\n",
       "      <td>0</td>\n",
       "    </tr>\n",
       "    <tr>\n",
       "      <th>4236</th>\n",
       "      <td>0</td>\n",
       "      <td>44</td>\n",
       "      <td>1.0</td>\n",
       "      <td>1</td>\n",
       "      <td>15.0</td>\n",
       "      <td>0.0</td>\n",
       "      <td>0</td>\n",
       "      <td>0</td>\n",
       "      <td>0</td>\n",
       "      <td>210.0</td>\n",
       "      <td>126.5</td>\n",
       "      <td>87.0</td>\n",
       "      <td>19.16</td>\n",
       "      <td>86.0</td>\n",
       "      <td>NaN</td>\n",
       "      <td>0</td>\n",
       "    </tr>\n",
       "    <tr>\n",
       "      <th>4237</th>\n",
       "      <td>0</td>\n",
       "      <td>52</td>\n",
       "      <td>2.0</td>\n",
       "      <td>0</td>\n",
       "      <td>0.0</td>\n",
       "      <td>0.0</td>\n",
       "      <td>0</td>\n",
       "      <td>0</td>\n",
       "      <td>0</td>\n",
       "      <td>269.0</td>\n",
       "      <td>133.5</td>\n",
       "      <td>83.0</td>\n",
       "      <td>21.47</td>\n",
       "      <td>80.0</td>\n",
       "      <td>107.0</td>\n",
       "      <td>0</td>\n",
       "    </tr>\n",
       "  </tbody>\n",
       "</table>\n",
       "<p>4238 rows × 16 columns</p>\n",
       "</div>"
      ],
      "text/plain": [
       "      male  age  education  currentSmoker  cigsPerDay  BPMeds  \\\n",
       "0        1   39        4.0              0         0.0     0.0   \n",
       "1        0   46        2.0              0         0.0     0.0   \n",
       "2        1   48        1.0              1        20.0     0.0   \n",
       "3        0   61        3.0              1        30.0     0.0   \n",
       "4        0   46        3.0              1        23.0     0.0   \n",
       "...    ...  ...        ...            ...         ...     ...   \n",
       "4233     1   50        1.0              1         1.0     0.0   \n",
       "4234     1   51        3.0              1        43.0     0.0   \n",
       "4235     0   48        2.0              1        20.0     NaN   \n",
       "4236     0   44        1.0              1        15.0     0.0   \n",
       "4237     0   52        2.0              0         0.0     0.0   \n",
       "\n",
       "      prevalentStroke  prevalentHyp  diabetes  totChol  sysBP  diaBP    BMI  \\\n",
       "0                   0             0         0    195.0  106.0   70.0  26.97   \n",
       "1                   0             0         0    250.0  121.0   81.0  28.73   \n",
       "2                   0             0         0    245.0  127.5   80.0  25.34   \n",
       "3                   0             1         0    225.0  150.0   95.0  28.58   \n",
       "4                   0             0         0    285.0  130.0   84.0  23.10   \n",
       "...               ...           ...       ...      ...    ...    ...    ...   \n",
       "4233                0             1         0    313.0  179.0   92.0  25.97   \n",
       "4234                0             0         0    207.0  126.5   80.0  19.71   \n",
       "4235                0             0         0    248.0  131.0   72.0  22.00   \n",
       "4236                0             0         0    210.0  126.5   87.0  19.16   \n",
       "4237                0             0         0    269.0  133.5   83.0  21.47   \n",
       "\n",
       "      heartRate  glucose  TenYearCHD  \n",
       "0          80.0     77.0           0  \n",
       "1          95.0     76.0           0  \n",
       "2          75.0     70.0           0  \n",
       "3          65.0    103.0           1  \n",
       "4          85.0     85.0           0  \n",
       "...         ...      ...         ...  \n",
       "4233       66.0     86.0           1  \n",
       "4234       65.0     68.0           0  \n",
       "4235       84.0     86.0           0  \n",
       "4236       86.0      NaN           0  \n",
       "4237       80.0    107.0           0  \n",
       "\n",
       "[4238 rows x 16 columns]"
      ]
     },
     "execution_count": 82,
     "metadata": {},
     "output_type": "execute_result"
    }
   ],
   "source": [
    "df"
   ]
  },
  {
   "cell_type": "code",
   "execution_count": 83,
   "id": "398446fb-b526-490b-80c9-5edb5b6cc402",
   "metadata": {},
   "outputs": [
    {
     "data": {
      "text/plain": [
       "Index(['male', 'age', 'education', 'currentSmoker', 'cigsPerDay', 'BPMeds',\n",
       "       'prevalentStroke', 'prevalentHyp', 'diabetes', 'totChol', 'sysBP',\n",
       "       'diaBP', 'BMI', 'heartRate', 'glucose', 'TenYearCHD'],\n",
       "      dtype='object')"
      ]
     },
     "execution_count": 83,
     "metadata": {},
     "output_type": "execute_result"
    }
   ],
   "source": [
    "df.columns"
   ]
  },
  {
   "cell_type": "code",
   "execution_count": 84,
   "id": "e99961fb-b542-4433-9e7e-d0d2a0284b51",
   "metadata": {},
   "outputs": [
    {
     "name": "stdout",
     "output_type": "stream",
     "text": [
      "<class 'pandas.core.frame.DataFrame'>\n",
      "RangeIndex: 4238 entries, 0 to 4237\n",
      "Data columns (total 16 columns):\n",
      " #   Column           Non-Null Count  Dtype  \n",
      "---  ------           --------------  -----  \n",
      " 0   male             4238 non-null   int64  \n",
      " 1   age              4238 non-null   int64  \n",
      " 2   education        4133 non-null   float64\n",
      " 3   currentSmoker    4238 non-null   int64  \n",
      " 4   cigsPerDay       4209 non-null   float64\n",
      " 5   BPMeds           4185 non-null   float64\n",
      " 6   prevalentStroke  4238 non-null   int64  \n",
      " 7   prevalentHyp     4238 non-null   int64  \n",
      " 8   diabetes         4238 non-null   int64  \n",
      " 9   totChol          4188 non-null   float64\n",
      " 10  sysBP            4238 non-null   float64\n",
      " 11  diaBP            4238 non-null   float64\n",
      " 12  BMI              4219 non-null   float64\n",
      " 13  heartRate        4237 non-null   float64\n",
      " 14  glucose          3850 non-null   float64\n",
      " 15  TenYearCHD       4238 non-null   int64  \n",
      "dtypes: float64(9), int64(7)\n",
      "memory usage: 529.9 KB\n"
     ]
    }
   ],
   "source": [
    "df.info()"
   ]
  },
  {
   "cell_type": "code",
   "execution_count": 85,
   "id": "c7172ca9-95d2-493e-ba45-6ec2e8083f63",
   "metadata": {},
   "outputs": [
    {
     "data": {
      "text/html": [
       "<div>\n",
       "<style scoped>\n",
       "    .dataframe tbody tr th:only-of-type {\n",
       "        vertical-align: middle;\n",
       "    }\n",
       "\n",
       "    .dataframe tbody tr th {\n",
       "        vertical-align: top;\n",
       "    }\n",
       "\n",
       "    .dataframe thead th {\n",
       "        text-align: right;\n",
       "    }\n",
       "</style>\n",
       "<table border=\"1\" class=\"dataframe\">\n",
       "  <thead>\n",
       "    <tr style=\"text-align: right;\">\n",
       "      <th></th>\n",
       "      <th>male</th>\n",
       "      <th>age</th>\n",
       "      <th>education</th>\n",
       "      <th>currentSmoker</th>\n",
       "      <th>cigsPerDay</th>\n",
       "      <th>BPMeds</th>\n",
       "      <th>prevalentStroke</th>\n",
       "      <th>prevalentHyp</th>\n",
       "      <th>diabetes</th>\n",
       "      <th>totChol</th>\n",
       "      <th>sysBP</th>\n",
       "      <th>diaBP</th>\n",
       "      <th>BMI</th>\n",
       "      <th>heartRate</th>\n",
       "      <th>glucose</th>\n",
       "      <th>TenYearCHD</th>\n",
       "    </tr>\n",
       "  </thead>\n",
       "  <tbody>\n",
       "    <tr>\n",
       "      <th>952</th>\n",
       "      <td>1</td>\n",
       "      <td>66</td>\n",
       "      <td>1.0</td>\n",
       "      <td>1</td>\n",
       "      <td>30.0</td>\n",
       "      <td>0.0</td>\n",
       "      <td>0</td>\n",
       "      <td>0</td>\n",
       "      <td>1</td>\n",
       "      <td>234.0</td>\n",
       "      <td>114.5</td>\n",
       "      <td>62.5</td>\n",
       "      <td>28.62</td>\n",
       "      <td>75.0</td>\n",
       "      <td>216.0</td>\n",
       "      <td>1</td>\n",
       "    </tr>\n",
       "    <tr>\n",
       "      <th>1973</th>\n",
       "      <td>1</td>\n",
       "      <td>48</td>\n",
       "      <td>4.0</td>\n",
       "      <td>1</td>\n",
       "      <td>20.0</td>\n",
       "      <td>0.0</td>\n",
       "      <td>0</td>\n",
       "      <td>0</td>\n",
       "      <td>0</td>\n",
       "      <td>236.0</td>\n",
       "      <td>112.5</td>\n",
       "      <td>75.0</td>\n",
       "      <td>30.43</td>\n",
       "      <td>72.0</td>\n",
       "      <td>67.0</td>\n",
       "      <td>0</td>\n",
       "    </tr>\n",
       "    <tr>\n",
       "      <th>3971</th>\n",
       "      <td>1</td>\n",
       "      <td>64</td>\n",
       "      <td>3.0</td>\n",
       "      <td>0</td>\n",
       "      <td>0.0</td>\n",
       "      <td>0.0</td>\n",
       "      <td>0</td>\n",
       "      <td>1</td>\n",
       "      <td>1</td>\n",
       "      <td>195.0</td>\n",
       "      <td>176.0</td>\n",
       "      <td>78.0</td>\n",
       "      <td>24.90</td>\n",
       "      <td>95.0</td>\n",
       "      <td>370.0</td>\n",
       "      <td>0</td>\n",
       "    </tr>\n",
       "    <tr>\n",
       "      <th>2242</th>\n",
       "      <td>0</td>\n",
       "      <td>50</td>\n",
       "      <td>2.0</td>\n",
       "      <td>1</td>\n",
       "      <td>20.0</td>\n",
       "      <td>0.0</td>\n",
       "      <td>0</td>\n",
       "      <td>0</td>\n",
       "      <td>0</td>\n",
       "      <td>202.0</td>\n",
       "      <td>138.0</td>\n",
       "      <td>72.0</td>\n",
       "      <td>25.03</td>\n",
       "      <td>110.0</td>\n",
       "      <td>98.0</td>\n",
       "      <td>0</td>\n",
       "    </tr>\n",
       "    <tr>\n",
       "      <th>1571</th>\n",
       "      <td>1</td>\n",
       "      <td>47</td>\n",
       "      <td>1.0</td>\n",
       "      <td>0</td>\n",
       "      <td>0.0</td>\n",
       "      <td>0.0</td>\n",
       "      <td>0</td>\n",
       "      <td>0</td>\n",
       "      <td>0</td>\n",
       "      <td>219.0</td>\n",
       "      <td>116.0</td>\n",
       "      <td>82.0</td>\n",
       "      <td>24.05</td>\n",
       "      <td>58.0</td>\n",
       "      <td>87.0</td>\n",
       "      <td>0</td>\n",
       "    </tr>\n",
       "    <tr>\n",
       "      <th>2835</th>\n",
       "      <td>0</td>\n",
       "      <td>40</td>\n",
       "      <td>1.0</td>\n",
       "      <td>1</td>\n",
       "      <td>50.0</td>\n",
       "      <td>NaN</td>\n",
       "      <td>0</td>\n",
       "      <td>0</td>\n",
       "      <td>0</td>\n",
       "      <td>220.0</td>\n",
       "      <td>124.0</td>\n",
       "      <td>79.0</td>\n",
       "      <td>20.70</td>\n",
       "      <td>90.0</td>\n",
       "      <td>57.0</td>\n",
       "      <td>0</td>\n",
       "    </tr>\n",
       "    <tr>\n",
       "      <th>103</th>\n",
       "      <td>0</td>\n",
       "      <td>48</td>\n",
       "      <td>1.0</td>\n",
       "      <td>0</td>\n",
       "      <td>0.0</td>\n",
       "      <td>0.0</td>\n",
       "      <td>0</td>\n",
       "      <td>1</td>\n",
       "      <td>0</td>\n",
       "      <td>265.0</td>\n",
       "      <td>145.0</td>\n",
       "      <td>77.0</td>\n",
       "      <td>24.23</td>\n",
       "      <td>74.0</td>\n",
       "      <td>64.0</td>\n",
       "      <td>0</td>\n",
       "    </tr>\n",
       "    <tr>\n",
       "      <th>2514</th>\n",
       "      <td>0</td>\n",
       "      <td>36</td>\n",
       "      <td>1.0</td>\n",
       "      <td>0</td>\n",
       "      <td>0.0</td>\n",
       "      <td>0.0</td>\n",
       "      <td>0</td>\n",
       "      <td>0</td>\n",
       "      <td>0</td>\n",
       "      <td>211.0</td>\n",
       "      <td>100.0</td>\n",
       "      <td>61.5</td>\n",
       "      <td>22.19</td>\n",
       "      <td>60.0</td>\n",
       "      <td>73.0</td>\n",
       "      <td>0</td>\n",
       "    </tr>\n",
       "    <tr>\n",
       "      <th>2476</th>\n",
       "      <td>1</td>\n",
       "      <td>57</td>\n",
       "      <td>1.0</td>\n",
       "      <td>1</td>\n",
       "      <td>20.0</td>\n",
       "      <td>0.0</td>\n",
       "      <td>0</td>\n",
       "      <td>0</td>\n",
       "      <td>0</td>\n",
       "      <td>198.0</td>\n",
       "      <td>128.0</td>\n",
       "      <td>85.0</td>\n",
       "      <td>28.18</td>\n",
       "      <td>85.0</td>\n",
       "      <td>99.0</td>\n",
       "      <td>0</td>\n",
       "    </tr>\n",
       "    <tr>\n",
       "      <th>2085</th>\n",
       "      <td>0</td>\n",
       "      <td>46</td>\n",
       "      <td>1.0</td>\n",
       "      <td>1</td>\n",
       "      <td>20.0</td>\n",
       "      <td>0.0</td>\n",
       "      <td>0</td>\n",
       "      <td>0</td>\n",
       "      <td>0</td>\n",
       "      <td>185.0</td>\n",
       "      <td>137.0</td>\n",
       "      <td>90.0</td>\n",
       "      <td>25.20</td>\n",
       "      <td>82.0</td>\n",
       "      <td>NaN</td>\n",
       "      <td>0</td>\n",
       "    </tr>\n",
       "  </tbody>\n",
       "</table>\n",
       "</div>"
      ],
      "text/plain": [
       "      male  age  education  currentSmoker  cigsPerDay  BPMeds  \\\n",
       "952      1   66        1.0              1        30.0     0.0   \n",
       "1973     1   48        4.0              1        20.0     0.0   \n",
       "3971     1   64        3.0              0         0.0     0.0   \n",
       "2242     0   50        2.0              1        20.0     0.0   \n",
       "1571     1   47        1.0              0         0.0     0.0   \n",
       "2835     0   40        1.0              1        50.0     NaN   \n",
       "103      0   48        1.0              0         0.0     0.0   \n",
       "2514     0   36        1.0              0         0.0     0.0   \n",
       "2476     1   57        1.0              1        20.0     0.0   \n",
       "2085     0   46        1.0              1        20.0     0.0   \n",
       "\n",
       "      prevalentStroke  prevalentHyp  diabetes  totChol  sysBP  diaBP    BMI  \\\n",
       "952                 0             0         1    234.0  114.5   62.5  28.62   \n",
       "1973                0             0         0    236.0  112.5   75.0  30.43   \n",
       "3971                0             1         1    195.0  176.0   78.0  24.90   \n",
       "2242                0             0         0    202.0  138.0   72.0  25.03   \n",
       "1571                0             0         0    219.0  116.0   82.0  24.05   \n",
       "2835                0             0         0    220.0  124.0   79.0  20.70   \n",
       "103                 0             1         0    265.0  145.0   77.0  24.23   \n",
       "2514                0             0         0    211.0  100.0   61.5  22.19   \n",
       "2476                0             0         0    198.0  128.0   85.0  28.18   \n",
       "2085                0             0         0    185.0  137.0   90.0  25.20   \n",
       "\n",
       "      heartRate  glucose  TenYearCHD  \n",
       "952        75.0    216.0           1  \n",
       "1973       72.0     67.0           0  \n",
       "3971       95.0    370.0           0  \n",
       "2242      110.0     98.0           0  \n",
       "1571       58.0     87.0           0  \n",
       "2835       90.0     57.0           0  \n",
       "103        74.0     64.0           0  \n",
       "2514       60.0     73.0           0  \n",
       "2476       85.0     99.0           0  \n",
       "2085       82.0      NaN           0  "
      ]
     },
     "execution_count": 85,
     "metadata": {},
     "output_type": "execute_result"
    }
   ],
   "source": [
    "df.sample(10)"
   ]
  },
  {
   "cell_type": "markdown",
   "id": "b0fda6d3-e95f-476f-bb21-3a73fa307b6a",
   "metadata": {},
   "source": [
    "# DATA CLEANING"
   ]
  },
  {
   "cell_type": "markdown",
   "id": "9f826676-b4b5-4629-891f-a2b4e1402eff",
   "metadata": {},
   "source": [
    "## Handling missing value "
   ]
  },
  {
   "cell_type": "code",
   "execution_count": 86,
   "id": "dfeb7071-f6e9-4e55-800a-0fe95ec24eb4",
   "metadata": {},
   "outputs": [
    {
     "data": {
      "text/plain": [
       "male                 0\n",
       "age                  0\n",
       "education          105\n",
       "currentSmoker        0\n",
       "cigsPerDay          29\n",
       "BPMeds              53\n",
       "prevalentStroke      0\n",
       "prevalentHyp         0\n",
       "diabetes             0\n",
       "totChol             50\n",
       "sysBP                0\n",
       "diaBP                0\n",
       "BMI                 19\n",
       "heartRate            1\n",
       "glucose            388\n",
       "TenYearCHD           0\n",
       "dtype: int64"
      ]
     },
     "execution_count": 86,
     "metadata": {},
     "output_type": "execute_result"
    }
   ],
   "source": [
    "df.isnull().sum()"
   ]
  },
  {
   "cell_type": "code",
   "execution_count": 87,
   "id": "094561c8-6320-4de3-8869-5f3fde8e385f",
   "metadata": {},
   "outputs": [
    {
     "data": {
      "text/html": [
       "<div>\n",
       "<style scoped>\n",
       "    .dataframe tbody tr th:only-of-type {\n",
       "        vertical-align: middle;\n",
       "    }\n",
       "\n",
       "    .dataframe tbody tr th {\n",
       "        vertical-align: top;\n",
       "    }\n",
       "\n",
       "    .dataframe thead th {\n",
       "        text-align: right;\n",
       "    }\n",
       "</style>\n",
       "<table border=\"1\" class=\"dataframe\">\n",
       "  <thead>\n",
       "    <tr style=\"text-align: right;\">\n",
       "      <th></th>\n",
       "      <th>male</th>\n",
       "      <th>age</th>\n",
       "      <th>education</th>\n",
       "      <th>currentSmoker</th>\n",
       "      <th>cigsPerDay</th>\n",
       "      <th>BPMeds</th>\n",
       "      <th>prevalentStroke</th>\n",
       "      <th>prevalentHyp</th>\n",
       "      <th>diabetes</th>\n",
       "      <th>totChol</th>\n",
       "      <th>sysBP</th>\n",
       "      <th>diaBP</th>\n",
       "      <th>BMI</th>\n",
       "      <th>heartRate</th>\n",
       "      <th>glucose</th>\n",
       "      <th>TenYearCHD</th>\n",
       "    </tr>\n",
       "  </thead>\n",
       "  <tbody>\n",
       "    <tr>\n",
       "      <th>14</th>\n",
       "      <td>0</td>\n",
       "      <td>39</td>\n",
       "      <td>2.0</td>\n",
       "      <td>1</td>\n",
       "      <td>9.0</td>\n",
       "      <td>0.0</td>\n",
       "      <td>0</td>\n",
       "      <td>0</td>\n",
       "      <td>0</td>\n",
       "      <td>226.0</td>\n",
       "      <td>114.0</td>\n",
       "      <td>64.0</td>\n",
       "      <td>22.35</td>\n",
       "      <td>85.0</td>\n",
       "      <td>NaN</td>\n",
       "      <td>0</td>\n",
       "    </tr>\n",
       "    <tr>\n",
       "      <th>21</th>\n",
       "      <td>0</td>\n",
       "      <td>43</td>\n",
       "      <td>1.0</td>\n",
       "      <td>0</td>\n",
       "      <td>0.0</td>\n",
       "      <td>0.0</td>\n",
       "      <td>0</td>\n",
       "      <td>0</td>\n",
       "      <td>0</td>\n",
       "      <td>185.0</td>\n",
       "      <td>123.5</td>\n",
       "      <td>77.5</td>\n",
       "      <td>29.89</td>\n",
       "      <td>70.0</td>\n",
       "      <td>NaN</td>\n",
       "      <td>0</td>\n",
       "    </tr>\n",
       "    <tr>\n",
       "      <th>26</th>\n",
       "      <td>0</td>\n",
       "      <td>60</td>\n",
       "      <td>1.0</td>\n",
       "      <td>0</td>\n",
       "      <td>0.0</td>\n",
       "      <td>0.0</td>\n",
       "      <td>0</td>\n",
       "      <td>0</td>\n",
       "      <td>0</td>\n",
       "      <td>260.0</td>\n",
       "      <td>110.0</td>\n",
       "      <td>72.5</td>\n",
       "      <td>26.59</td>\n",
       "      <td>65.0</td>\n",
       "      <td>NaN</td>\n",
       "      <td>0</td>\n",
       "    </tr>\n",
       "    <tr>\n",
       "      <th>33</th>\n",
       "      <td>1</td>\n",
       "      <td>61</td>\n",
       "      <td>NaN</td>\n",
       "      <td>1</td>\n",
       "      <td>5.0</td>\n",
       "      <td>0.0</td>\n",
       "      <td>0</td>\n",
       "      <td>0</td>\n",
       "      <td>0</td>\n",
       "      <td>175.0</td>\n",
       "      <td>134.0</td>\n",
       "      <td>82.5</td>\n",
       "      <td>18.59</td>\n",
       "      <td>72.0</td>\n",
       "      <td>75.0</td>\n",
       "      <td>1</td>\n",
       "    </tr>\n",
       "    <tr>\n",
       "      <th>36</th>\n",
       "      <td>1</td>\n",
       "      <td>56</td>\n",
       "      <td>NaN</td>\n",
       "      <td>0</td>\n",
       "      <td>0.0</td>\n",
       "      <td>0.0</td>\n",
       "      <td>0</td>\n",
       "      <td>0</td>\n",
       "      <td>0</td>\n",
       "      <td>257.0</td>\n",
       "      <td>153.5</td>\n",
       "      <td>102.0</td>\n",
       "      <td>28.09</td>\n",
       "      <td>72.0</td>\n",
       "      <td>75.0</td>\n",
       "      <td>0</td>\n",
       "    </tr>\n",
       "    <tr>\n",
       "      <th>...</th>\n",
       "      <td>...</td>\n",
       "      <td>...</td>\n",
       "      <td>...</td>\n",
       "      <td>...</td>\n",
       "      <td>...</td>\n",
       "      <td>...</td>\n",
       "      <td>...</td>\n",
       "      <td>...</td>\n",
       "      <td>...</td>\n",
       "      <td>...</td>\n",
       "      <td>...</td>\n",
       "      <td>...</td>\n",
       "      <td>...</td>\n",
       "      <td>...</td>\n",
       "      <td>...</td>\n",
       "      <td>...</td>\n",
       "    </tr>\n",
       "    <tr>\n",
       "      <th>4208</th>\n",
       "      <td>0</td>\n",
       "      <td>51</td>\n",
       "      <td>1.0</td>\n",
       "      <td>1</td>\n",
       "      <td>9.0</td>\n",
       "      <td>0.0</td>\n",
       "      <td>0</td>\n",
       "      <td>0</td>\n",
       "      <td>0</td>\n",
       "      <td>340.0</td>\n",
       "      <td>152.0</td>\n",
       "      <td>76.0</td>\n",
       "      <td>25.74</td>\n",
       "      <td>70.0</td>\n",
       "      <td>NaN</td>\n",
       "      <td>0</td>\n",
       "    </tr>\n",
       "    <tr>\n",
       "      <th>4229</th>\n",
       "      <td>0</td>\n",
       "      <td>51</td>\n",
       "      <td>3.0</td>\n",
       "      <td>1</td>\n",
       "      <td>20.0</td>\n",
       "      <td>0.0</td>\n",
       "      <td>0</td>\n",
       "      <td>1</td>\n",
       "      <td>0</td>\n",
       "      <td>251.0</td>\n",
       "      <td>140.0</td>\n",
       "      <td>80.0</td>\n",
       "      <td>25.60</td>\n",
       "      <td>75.0</td>\n",
       "      <td>NaN</td>\n",
       "      <td>0</td>\n",
       "    </tr>\n",
       "    <tr>\n",
       "      <th>4230</th>\n",
       "      <td>0</td>\n",
       "      <td>56</td>\n",
       "      <td>1.0</td>\n",
       "      <td>1</td>\n",
       "      <td>3.0</td>\n",
       "      <td>0.0</td>\n",
       "      <td>0</td>\n",
       "      <td>1</td>\n",
       "      <td>0</td>\n",
       "      <td>268.0</td>\n",
       "      <td>170.0</td>\n",
       "      <td>102.0</td>\n",
       "      <td>22.89</td>\n",
       "      <td>57.0</td>\n",
       "      <td>NaN</td>\n",
       "      <td>0</td>\n",
       "    </tr>\n",
       "    <tr>\n",
       "      <th>4235</th>\n",
       "      <td>0</td>\n",
       "      <td>48</td>\n",
       "      <td>2.0</td>\n",
       "      <td>1</td>\n",
       "      <td>20.0</td>\n",
       "      <td>NaN</td>\n",
       "      <td>0</td>\n",
       "      <td>0</td>\n",
       "      <td>0</td>\n",
       "      <td>248.0</td>\n",
       "      <td>131.0</td>\n",
       "      <td>72.0</td>\n",
       "      <td>22.00</td>\n",
       "      <td>84.0</td>\n",
       "      <td>86.0</td>\n",
       "      <td>0</td>\n",
       "    </tr>\n",
       "    <tr>\n",
       "      <th>4236</th>\n",
       "      <td>0</td>\n",
       "      <td>44</td>\n",
       "      <td>1.0</td>\n",
       "      <td>1</td>\n",
       "      <td>15.0</td>\n",
       "      <td>0.0</td>\n",
       "      <td>0</td>\n",
       "      <td>0</td>\n",
       "      <td>0</td>\n",
       "      <td>210.0</td>\n",
       "      <td>126.5</td>\n",
       "      <td>87.0</td>\n",
       "      <td>19.16</td>\n",
       "      <td>86.0</td>\n",
       "      <td>NaN</td>\n",
       "      <td>0</td>\n",
       "    </tr>\n",
       "  </tbody>\n",
       "</table>\n",
       "<p>582 rows × 16 columns</p>\n",
       "</div>"
      ],
      "text/plain": [
       "      male  age  education  currentSmoker  cigsPerDay  BPMeds  \\\n",
       "14       0   39        2.0              1         9.0     0.0   \n",
       "21       0   43        1.0              0         0.0     0.0   \n",
       "26       0   60        1.0              0         0.0     0.0   \n",
       "33       1   61        NaN              1         5.0     0.0   \n",
       "36       1   56        NaN              0         0.0     0.0   \n",
       "...    ...  ...        ...            ...         ...     ...   \n",
       "4208     0   51        1.0              1         9.0     0.0   \n",
       "4229     0   51        3.0              1        20.0     0.0   \n",
       "4230     0   56        1.0              1         3.0     0.0   \n",
       "4235     0   48        2.0              1        20.0     NaN   \n",
       "4236     0   44        1.0              1        15.0     0.0   \n",
       "\n",
       "      prevalentStroke  prevalentHyp  diabetes  totChol  sysBP  diaBP    BMI  \\\n",
       "14                  0             0         0    226.0  114.0   64.0  22.35   \n",
       "21                  0             0         0    185.0  123.5   77.5  29.89   \n",
       "26                  0             0         0    260.0  110.0   72.5  26.59   \n",
       "33                  0             0         0    175.0  134.0   82.5  18.59   \n",
       "36                  0             0         0    257.0  153.5  102.0  28.09   \n",
       "...               ...           ...       ...      ...    ...    ...    ...   \n",
       "4208                0             0         0    340.0  152.0   76.0  25.74   \n",
       "4229                0             1         0    251.0  140.0   80.0  25.60   \n",
       "4230                0             1         0    268.0  170.0  102.0  22.89   \n",
       "4235                0             0         0    248.0  131.0   72.0  22.00   \n",
       "4236                0             0         0    210.0  126.5   87.0  19.16   \n",
       "\n",
       "      heartRate  glucose  TenYearCHD  \n",
       "14         85.0      NaN           0  \n",
       "21         70.0      NaN           0  \n",
       "26         65.0      NaN           0  \n",
       "33         72.0     75.0           1  \n",
       "36         72.0     75.0           0  \n",
       "...         ...      ...         ...  \n",
       "4208       70.0      NaN           0  \n",
       "4229       75.0      NaN           0  \n",
       "4230       57.0      NaN           0  \n",
       "4235       84.0     86.0           0  \n",
       "4236       86.0      NaN           0  \n",
       "\n",
       "[582 rows x 16 columns]"
      ]
     },
     "execution_count": 87,
     "metadata": {},
     "output_type": "execute_result"
    }
   ],
   "source": [
    "df[df.isnull().any(axis=1)]"
   ]
  },
  {
   "cell_type": "markdown",
   "id": "7387d443-0bcd-4ba7-923e-1e18b6beed93",
   "metadata": {},
   "source": [
    "### Analayzing effected feature"
   ]
  },
  {
   "cell_type": "code",
   "execution_count": 88,
   "id": "da8b0aad-4f7a-4b26-b57e-8c4cb5aa8cf6",
   "metadata": {},
   "outputs": [],
   "source": [
    "for i in range(0,len(df.columns)):\n",
    "    if df[df.columns[i]].isnull().sum() / len(df) > 0.3:\n",
    "        print(df.columns[i])\n",
    "\n",
    "# no such type of feature is availble which's sum of null value  is 30% greater than overall row "
   ]
  },
  {
   "cell_type": "markdown",
   "id": "c9d323ef-e121-47e5-900e-574888ae33d7",
   "metadata": {},
   "source": [
    "### list the name of features which have null value and calculating the percentage of total null value "
   ]
  },
  {
   "cell_type": "code",
   "execution_count": 89,
   "id": "f71195ed-a2b4-406c-a716-8b3562feb123",
   "metadata": {},
   "outputs": [
    {
     "name": "stdout",
     "output_type": "stream",
     "text": [
      "\n",
      "---education---\n",
      "education : 105 with 2.48 % \n",
      "\n",
      "---cigsPerDay---\n",
      "cigsPerDay : 29 with 0.68 % \n",
      "\n",
      "---BPMeds---\n",
      "BPMeds : 53 with 1.25 % \n",
      "\n",
      "---totChol---\n",
      "totChol : 50 with 1.18 % \n",
      "\n",
      "---BMI---\n",
      "BMI : 19 with 0.45 % \n",
      "\n",
      "---heartRate---\n",
      "heartRate : 1 with 0.02 % \n",
      "\n",
      "---glucose---\n",
      "glucose : 388 with 9.16 % \n"
     ]
    }
   ],
   "source": [
    "null_feature = []\n",
    "for i in range(0,len(df.columns)):\n",
    "    if df[df.columns[i]].isnull().sum() != 0:\n",
    "        percentage = round(df[df.columns[i]].isnull().sum()/df.shape[0] * 100,2)\n",
    "        print(f'\\n---{df.columns[i]}---')\n",
    "        print(f'{df.columns[i]} : {str(df[df.columns[i]].isnull().sum())} with {percentage} % ')\n",
    "        null_feature.append(df.columns[i])\n"
   ]
  },
  {
   "cell_type": "markdown",
   "id": "c0da5ab8",
   "metadata": {},
   "source": [
    "### Handling missing values"
   ]
  },
  {
   "cell_type": "code",
   "execution_count": 105,
   "id": "546beeb5-5d96-4f16-8745-9c4f78d39332",
   "metadata": {},
   "outputs": [
    {
     "data": {
      "image/png": "[encoded data removed]",
      "text/plain": [
       "<Figure size 1500x700 with 6 Axes>"
      ]
     },
     "metadata": {},
     "output_type": "display_data"
    }
   ],
   "source": [
    "numerical_null_feature = [x for x in null_feature if x!='BPMeds']\n",
    "plt.figure(figsize=(15,7))\n",
    "plt.suptitle('Distribution of numerical features',fontsize=12,fontweight='bold')\n",
    "for x in range(0,len(numerical_null_feature)):\n",
    "    plt.subplot(2,3,x+1)\n",
    "    sns.kdeplot(df[numerical_null_feature[x]], fill=True)"
   ]
  },
  {
   "cell_type": "markdown",
   "id": "7a885ef6-47d3-45e0-b094-ea656a60810f",
   "metadata": {},
   "source": [
    "#### calculating skweness"
   ]
  },
  {
   "cell_type": "code",
   "execution_count": 102,
   "id": "51bec383-6d75-47a5-838f-39d43ccbe326",
   "metadata": {},
   "outputs": [
    {
     "name": "stdout",
     "output_type": "stream",
     "text": [
      "0.6971713034206299\n",
      "1.2574722480687608\n",
      "0.8787183592102467\n",
      "0.9854415627473001\n",
      "0.6446081818772712\n",
      "6.5414761215855615\n"
     ]
    }
   ],
   "source": [
    "for x in range(0,len(numerical_null_feature)):\n",
    "    print(f'{df[numerical_null_feature[x]].skew()}')"
   ]
  },
  {
   "cell_type": "markdown",
   "id": "7844fb53-52de-49a7-9472-263420308749",
   "metadata": {},
   "source": [
    " - Skewness > 0: Right-skewed (use median).\n",
    " - Skewness < 0: Left-skewed (use median).\n",
    " - Skewness ≈ 0: Symmetric (use mean).\n",
    " - copied by chatGPT"
   ]
  },
  {
   "cell_type": "markdown",
   "id": "6710d773-1b8a-4488-8cad-659cca4f1aad",
   "metadata": {},
   "source": [
    "#### conclusion \n",
    " using median for handling null value of numerical feature\n"
   ]
  },
  {
   "cell_type": "code",
   "execution_count": 103,
   "id": "9c7d84ca",
   "metadata": {},
   "outputs": [],
   "source": [
    "\n",
    "# Handling missing value \n",
    "for feature in null_feature:\n",
    "    if feature == 'BPMeds':\n",
    "        df[feature] = df[feature].fillna(df[feature].mode()[0])\n",
    "        df[feature] = df[feature].astype(int)\n",
    "    else:\n",
    "        df[feature] = df[feature].fillna(df[feature].median())\n",
    "\n",
    "# if distribution of feature (numerical) data seems normal gaussian distribution do mean else medium\n",
    "# insight , some of the feature are shown skwed manner"
   ]
  },
  {
   "cell_type": "code",
   "execution_count": 104,
   "id": "9b848ae1-658b-4b38-8857-4f8652ca2dd8",
   "metadata": {},
   "outputs": [
    {
     "data": {
      "text/plain": [
       "male               0\n",
       "age                0\n",
       "education          0\n",
       "currentSmoker      0\n",
       "cigsPerDay         0\n",
       "BPMeds             0\n",
       "prevalentStroke    0\n",
       "prevalentHyp       0\n",
       "diabetes           0\n",
       "totChol            0\n",
       "sysBP              0\n",
       "diaBP              0\n",
       "BMI                0\n",
       "heartRate          0\n",
       "glucose            0\n",
       "TenYearCHD         0\n",
       "dtype: int64"
      ]
     },
     "execution_count": 104,
     "metadata": {},
     "output_type": "execute_result"
    }
   ],
   "source": [
    "df.isnull().sum()"
   ]
  },
  {
   "cell_type": "markdown",
   "id": "6ef636a8-a109-4efb-b026-28b888b33afe",
   "metadata": {},
   "source": [
    "### Ensure about data types "
   ]
  },
  {
   "cell_type": "code",
   "execution_count": 106,
   "id": "e1c581b3-ad5f-4c3c-b353-6e42827b03f9",
   "metadata": {},
   "outputs": [
    {
     "name": "stdout",
     "output_type": "stream",
     "text": [
      "<class 'pandas.core.frame.DataFrame'>\n",
      "RangeIndex: 4238 entries, 0 to 4237\n",
      "Data columns (total 16 columns):\n",
      " #   Column           Non-Null Count  Dtype  \n",
      "---  ------           --------------  -----  \n",
      " 0   male             4238 non-null   int64  \n",
      " 1   age              4238 non-null   int64  \n",
      " 2   education        4238 non-null   float64\n",
      " 3   currentSmoker    4238 non-null   int64  \n",
      " 4   cigsPerDay       4238 non-null   float64\n",
      " 5   BPMeds           4238 non-null   int64  \n",
      " 6   prevalentStroke  4238 non-null   int64  \n",
      " 7   prevalentHyp     4238 non-null   int64  \n",
      " 8   diabetes         4238 non-null   int64  \n",
      " 9   totChol          4238 non-null   float64\n",
      " 10  sysBP            4238 non-null   float64\n",
      " 11  diaBP            4238 non-null   float64\n",
      " 12  BMI              4238 non-null   float64\n",
      " 13  heartRate        4238 non-null   float64\n",
      " 14  glucose          4238 non-null   float64\n",
      " 15  TenYearCHD       4238 non-null   int64  \n",
      "dtypes: float64(8), int64(8)\n",
      "memory usage: 529.9 KB\n"
     ]
    }
   ],
   "source": [
    "df.info()"
   ]
  },
  {
   "cell_type": "markdown",
   "id": "523e9aa7-5d8c-487d-ad3b-da08f5736b82",
   "metadata": {},
   "source": [
    "## Identifying Outlier in numerical feature "
   ]
  },
  {
   "cell_type": "code",
   "execution_count": 107,
   "id": "b9548d3f-31ac-41c3-8dbd-afb067c36297",
   "metadata": {},
   "outputs": [
    {
     "data": {
      "text/html": [
       "<div>\n",
       "<style scoped>\n",
       "    .dataframe tbody tr th:only-of-type {\n",
       "        vertical-align: middle;\n",
       "    }\n",
       "\n",
       "    .dataframe tbody tr th {\n",
       "        vertical-align: top;\n",
       "    }\n",
       "\n",
       "    .dataframe thead th {\n",
       "        text-align: right;\n",
       "    }\n",
       "</style>\n",
       "<table border=\"1\" class=\"dataframe\">\n",
       "  <thead>\n",
       "    <tr style=\"text-align: right;\">\n",
       "      <th></th>\n",
       "      <th>male</th>\n",
       "      <th>age</th>\n",
       "      <th>education</th>\n",
       "      <th>currentSmoker</th>\n",
       "      <th>cigsPerDay</th>\n",
       "      <th>BPMeds</th>\n",
       "      <th>prevalentStroke</th>\n",
       "      <th>prevalentHyp</th>\n",
       "      <th>diabetes</th>\n",
       "      <th>totChol</th>\n",
       "      <th>sysBP</th>\n",
       "      <th>diaBP</th>\n",
       "      <th>BMI</th>\n",
       "      <th>heartRate</th>\n",
       "      <th>glucose</th>\n",
       "      <th>TenYearCHD</th>\n",
       "    </tr>\n",
       "  </thead>\n",
       "  <tbody>\n",
       "    <tr>\n",
       "      <th>count</th>\n",
       "      <td>4238.000000</td>\n",
       "      <td>4238.000000</td>\n",
       "      <td>4238.000000</td>\n",
       "      <td>4238.000000</td>\n",
       "      <td>4238.000000</td>\n",
       "      <td>4238.000000</td>\n",
       "      <td>4238.000000</td>\n",
       "      <td>4238.000000</td>\n",
       "      <td>4238.000000</td>\n",
       "      <td>4238.000000</td>\n",
       "      <td>4238.000000</td>\n",
       "      <td>4238.000000</td>\n",
       "      <td>4238.000000</td>\n",
       "      <td>4238.000000</td>\n",
       "      <td>4238.000000</td>\n",
       "      <td>4238.000000</td>\n",
       "    </tr>\n",
       "    <tr>\n",
       "      <th>mean</th>\n",
       "      <td>0.429212</td>\n",
       "      <td>49.584946</td>\n",
       "      <td>1.979471</td>\n",
       "      <td>0.494101</td>\n",
       "      <td>8.941482</td>\n",
       "      <td>0.029259</td>\n",
       "      <td>0.005899</td>\n",
       "      <td>0.310524</td>\n",
       "      <td>0.025720</td>\n",
       "      <td>236.689476</td>\n",
       "      <td>132.352407</td>\n",
       "      <td>82.893464</td>\n",
       "      <td>25.800205</td>\n",
       "      <td>75.878716</td>\n",
       "      <td>81.603587</td>\n",
       "      <td>0.151958</td>\n",
       "    </tr>\n",
       "    <tr>\n",
       "      <th>std</th>\n",
       "      <td>0.495022</td>\n",
       "      <td>8.572160</td>\n",
       "      <td>1.007081</td>\n",
       "      <td>0.500024</td>\n",
       "      <td>11.902399</td>\n",
       "      <td>0.168552</td>\n",
       "      <td>0.076587</td>\n",
       "      <td>0.462763</td>\n",
       "      <td>0.158316</td>\n",
       "      <td>44.327427</td>\n",
       "      <td>22.038097</td>\n",
       "      <td>11.910850</td>\n",
       "      <td>4.071041</td>\n",
       "      <td>12.025185</td>\n",
       "      <td>22.865246</td>\n",
       "      <td>0.359023</td>\n",
       "    </tr>\n",
       "    <tr>\n",
       "      <th>min</th>\n",
       "      <td>0.000000</td>\n",
       "      <td>32.000000</td>\n",
       "      <td>1.000000</td>\n",
       "      <td>0.000000</td>\n",
       "      <td>0.000000</td>\n",
       "      <td>0.000000</td>\n",
       "      <td>0.000000</td>\n",
       "      <td>0.000000</td>\n",
       "      <td>0.000000</td>\n",
       "      <td>107.000000</td>\n",
       "      <td>83.500000</td>\n",
       "      <td>48.000000</td>\n",
       "      <td>15.540000</td>\n",
       "      <td>44.000000</td>\n",
       "      <td>40.000000</td>\n",
       "      <td>0.000000</td>\n",
       "    </tr>\n",
       "    <tr>\n",
       "      <th>25%</th>\n",
       "      <td>0.000000</td>\n",
       "      <td>42.000000</td>\n",
       "      <td>1.000000</td>\n",
       "      <td>0.000000</td>\n",
       "      <td>0.000000</td>\n",
       "      <td>0.000000</td>\n",
       "      <td>0.000000</td>\n",
       "      <td>0.000000</td>\n",
       "      <td>0.000000</td>\n",
       "      <td>206.000000</td>\n",
       "      <td>117.000000</td>\n",
       "      <td>75.000000</td>\n",
       "      <td>23.080000</td>\n",
       "      <td>68.000000</td>\n",
       "      <td>72.000000</td>\n",
       "      <td>0.000000</td>\n",
       "    </tr>\n",
       "    <tr>\n",
       "      <th>50%</th>\n",
       "      <td>0.000000</td>\n",
       "      <td>49.000000</td>\n",
       "      <td>2.000000</td>\n",
       "      <td>0.000000</td>\n",
       "      <td>0.000000</td>\n",
       "      <td>0.000000</td>\n",
       "      <td>0.000000</td>\n",
       "      <td>0.000000</td>\n",
       "      <td>0.000000</td>\n",
       "      <td>234.000000</td>\n",
       "      <td>128.000000</td>\n",
       "      <td>82.000000</td>\n",
       "      <td>25.400000</td>\n",
       "      <td>75.000000</td>\n",
       "      <td>78.000000</td>\n",
       "      <td>0.000000</td>\n",
       "    </tr>\n",
       "    <tr>\n",
       "      <th>75%</th>\n",
       "      <td>1.000000</td>\n",
       "      <td>56.000000</td>\n",
       "      <td>3.000000</td>\n",
       "      <td>1.000000</td>\n",
       "      <td>20.000000</td>\n",
       "      <td>0.000000</td>\n",
       "      <td>0.000000</td>\n",
       "      <td>1.000000</td>\n",
       "      <td>0.000000</td>\n",
       "      <td>262.000000</td>\n",
       "      <td>144.000000</td>\n",
       "      <td>89.875000</td>\n",
       "      <td>28.037500</td>\n",
       "      <td>83.000000</td>\n",
       "      <td>85.000000</td>\n",
       "      <td>0.000000</td>\n",
       "    </tr>\n",
       "    <tr>\n",
       "      <th>max</th>\n",
       "      <td>1.000000</td>\n",
       "      <td>70.000000</td>\n",
       "      <td>4.000000</td>\n",
       "      <td>1.000000</td>\n",
       "      <td>70.000000</td>\n",
       "      <td>1.000000</td>\n",
       "      <td>1.000000</td>\n",
       "      <td>1.000000</td>\n",
       "      <td>1.000000</td>\n",
       "      <td>696.000000</td>\n",
       "      <td>295.000000</td>\n",
       "      <td>142.500000</td>\n",
       "      <td>56.800000</td>\n",
       "      <td>143.000000</td>\n",
       "      <td>394.000000</td>\n",
       "      <td>1.000000</td>\n",
       "    </tr>\n",
       "  </tbody>\n",
       "</table>\n",
       "</div>"
      ],
      "text/plain": [
       "              male          age    education  currentSmoker   cigsPerDay  \\\n",
       "count  4238.000000  4238.000000  4238.000000    4238.000000  4238.000000   \n",
       "mean      0.429212    49.584946     1.979471       0.494101     8.941482   \n",
       "std       0.495022     8.572160     1.007081       0.500024    11.902399   \n",
       "min       0.000000    32.000000     1.000000       0.000000     0.000000   \n",
       "25%       0.000000    42.000000     1.000000       0.000000     0.000000   \n",
       "50%       0.000000    49.000000     2.000000       0.000000     0.000000   \n",
       "75%       1.000000    56.000000     3.000000       1.000000    20.000000   \n",
       "max       1.000000    70.000000     4.000000       1.000000    70.000000   \n",
       "\n",
       "            BPMeds  prevalentStroke  prevalentHyp     diabetes      totChol  \\\n",
       "count  4238.000000      4238.000000   4238.000000  4238.000000  4238.000000   \n",
       "mean      0.029259         0.005899      0.310524     0.025720   236.689476   \n",
       "std       0.168552         0.076587      0.462763     0.158316    44.327427   \n",
       "min       0.000000         0.000000      0.000000     0.000000   107.000000   \n",
       "25%       0.000000         0.000000      0.000000     0.000000   206.000000   \n",
       "50%       0.000000         0.000000      0.000000     0.000000   234.000000   \n",
       "75%       0.000000         0.000000      1.000000     0.000000   262.000000   \n",
       "max       1.000000         1.000000      1.000000     1.000000   696.000000   \n",
       "\n",
       "             sysBP        diaBP          BMI    heartRate      glucose  \\\n",
       "count  4238.000000  4238.000000  4238.000000  4238.000000  4238.000000   \n",
       "mean    132.352407    82.893464    25.800205    75.878716    81.603587   \n",
       "std      22.038097    11.910850     4.071041    12.025185    22.865246   \n",
       "min      83.500000    48.000000    15.540000    44.000000    40.000000   \n",
       "25%     117.000000    75.000000    23.080000    68.000000    72.000000   \n",
       "50%     128.000000    82.000000    25.400000    75.000000    78.000000   \n",
       "75%     144.000000    89.875000    28.037500    83.000000    85.000000   \n",
       "max     295.000000   142.500000    56.800000   143.000000   394.000000   \n",
       "\n",
       "        TenYearCHD  \n",
       "count  4238.000000  \n",
       "mean      0.151958  \n",
       "std       0.359023  \n",
       "min       0.000000  \n",
       "25%       0.000000  \n",
       "50%       0.000000  \n",
       "75%       0.000000  \n",
       "max       1.000000  "
      ]
     },
     "execution_count": 107,
     "metadata": {},
     "output_type": "execute_result"
    }
   ],
   "source": [
    "df.describe()"
   ]
  },
  {
   "cell_type": "markdown",
   "id": "f0d7a843-9fc3-4067-8d3a-edf8a7b17f65",
   "metadata": {},
   "source": [
    "### method 1 : using IQR\n",
    " - observation while finding outlier using IQR we faced an issue that no of outlier is equal to the total number of rows ,\n",
    " - it was hapeening by due to specific skewed (long tail) cases in ditribution\n",
    " - so we use z-score for finding outlier"
   ]
  },
  {
   "cell_type": "code",
   "execution_count": 108,
   "id": "0fa5fd47-c9d0-4a4b-9b3e-5f8bbb6816ed",
   "metadata": {},
   "outputs": [
    {
     "data": {
      "text/plain": [
       "6"
      ]
     },
     "execution_count": 108,
     "metadata": {},
     "output_type": "execute_result"
    }
   ],
   "source": [
    "q1 = df['diaBP'].quantile(0.25)\n",
    "q3 = df['diaBP'].quantile(0.75)\n",
    "iqr = q3 - q1\n",
    "lower_bound = q1 - 3.0 * iqr\n",
    "upper_bound = q3 + 3.0 * iqr\n",
    "outlier = df[(df['diaBP']<lower_bound) | (df['diaBP']>upper_bound)]\n",
    "outlier.shape[0]"
   ]
  },
  {
   "cell_type": "markdown",
   "id": "2ec964ed-4a59-487b-b4d5-ec9364b11e3a",
   "metadata": {},
   "source": [
    "### method 2 : using Z-score "
   ]
  },
  {
   "cell_type": "code",
   "execution_count": 116,
   "id": "a9839b08-9240-46ee-ac9b-a13416682787",
   "metadata": {},
   "outputs": [
    {
     "data": {
      "text/plain": [
       "['education',\n",
       " 'cigsPerDay',\n",
       " 'totChol',\n",
       " 'sysBP',\n",
       " 'diaBP',\n",
       " 'BMI',\n",
       " 'heartRate',\n",
       " 'glucose']"
      ]
     },
     "execution_count": 116,
     "metadata": {},
     "output_type": "execute_result"
    }
   ],
   "source": [
    "numerical_features = [feature for feature in df.columns if df[feature].dtypes == 'float']\n",
    "numerical_features"
   ]
  },
  {
   "cell_type": "code",
   "execution_count": 122,
   "id": "077bb21b-4e77-4ba9-8adc-bff6657a4374",
   "metadata": {},
   "outputs": [],
   "source": [
    "def check_outlier(data):\n",
    "    list = []\n",
    "    for i in range(0,len(data)):\n",
    "        dataz[data[i]] = zscore(df[data[i]])  # X - mean / standard deviation also mean + 3 * 22[std of feature of glocose ]\n",
    "        outliers = dataz[dataz[data[i]].abs() > 3]\n",
    "        list.append(outliers.shape[0])\n",
    "    return list"
   ]
  },
  {
   "cell_type": "code",
   "execution_count": 123,
   "id": "3971aa36-f7f8-4689-848b-fd8c647c33a0",
   "metadata": {},
   "outputs": [
    {
     "name": "stdout",
     "output_type": "stream",
     "text": [
      " education have 0 outliers \n",
      " cigsPerDay have 21 outliers \n",
      " totChol have 25 outliers \n",
      " sysBP have 48 outliers \n",
      " diaBP have 41 outliers \n",
      " BMI have 60 outliers \n",
      " heartRate have 23 outliers \n",
      " glucose have 50 outliers \n"
     ]
    }
   ],
   "source": [
    "from scipy.stats import zscore\n",
    "dataz = pd.DataFrame()\n",
    "a_list = check_outlier(numerical_features)\n",
    "for x in range(0,len(a_list)):\n",
    "    print(f' {numerical_features[x]} have {a_list[x]} outliers ')"
   ]
  },
  {
   "cell_type": "markdown",
   "id": "5267788e-f62e-4511-8f17-7a6b89627194",
   "metadata": {},
   "source": [
    "## Visualizing outlier "
   ]
  },
  {
   "cell_type": "code",
   "execution_count": 124,
   "id": "8ae043ac-ae4d-4719-9639-d8ba90d7a7e5",
   "metadata": {},
   "outputs": [
    {
     "data": {
      "image/png": "[encoded data removed]",
      "text/plain": [
       "<Figure size 1400x700 with 8 Axes>"
      ]
     },
     "metadata": {},
     "output_type": "display_data"
    }
   ],
   "source": [
    "plt.figure(figsize=(14,7))\n",
    "for x in range(0,len(numerical_features)):\n",
    "    plt.subplot(2,4,x+1)\n",
    "    sns.boxplot(x=df[numerical_features[x]])"
   ]
  },
  {
   "cell_type": "code",
   "execution_count": 114,
   "id": "d939ab35-03ad-4441-9d26-b64eacd2eb50",
   "metadata": {},
   "outputs": [
    {
     "data": {
      "text/html": [
       "<div>\n",
       "<style scoped>\n",
       "    .dataframe tbody tr th:only-of-type {\n",
       "        vertical-align: middle;\n",
       "    }\n",
       "\n",
       "    .dataframe tbody tr th {\n",
       "        vertical-align: top;\n",
       "    }\n",
       "\n",
       "    .dataframe thead th {\n",
       "        text-align: right;\n",
       "    }\n",
       "</style>\n",
       "<table border=\"1\" class=\"dataframe\">\n",
       "  <thead>\n",
       "    <tr style=\"text-align: right;\">\n",
       "      <th></th>\n",
       "      <th>education</th>\n",
       "      <th>cigsPerDay</th>\n",
       "      <th>totChol</th>\n",
       "      <th>sysBP</th>\n",
       "      <th>diaBP</th>\n",
       "      <th>BMI</th>\n",
       "      <th>heartRate</th>\n",
       "      <th>glucose</th>\n",
       "    </tr>\n",
       "  </thead>\n",
       "  <tbody>\n",
       "    <tr>\n",
       "      <th>0</th>\n",
       "      <td>2.006559</td>\n",
       "      <td>-0.751322</td>\n",
       "      <td>-0.940600</td>\n",
       "      <td>-1.195907</td>\n",
       "      <td>-1.082625</td>\n",
       "      <td>0.287379</td>\n",
       "      <td>0.342761</td>\n",
       "      <td>-0.201359</td>\n",
       "    </tr>\n",
       "    <tr>\n",
       "      <th>1</th>\n",
       "      <td>0.020387</td>\n",
       "      <td>-0.751322</td>\n",
       "      <td>0.300313</td>\n",
       "      <td>-0.515187</td>\n",
       "      <td>-0.158988</td>\n",
       "      <td>0.719752</td>\n",
       "      <td>1.590291</td>\n",
       "      <td>-0.245099</td>\n",
       "    </tr>\n",
       "    <tr>\n",
       "      <th>2</th>\n",
       "      <td>-0.972700</td>\n",
       "      <td>0.929210</td>\n",
       "      <td>0.187503</td>\n",
       "      <td>-0.220209</td>\n",
       "      <td>-0.242955</td>\n",
       "      <td>-0.113057</td>\n",
       "      <td>-0.073082</td>\n",
       "      <td>-0.507537</td>\n",
       "    </tr>\n",
       "    <tr>\n",
       "      <th>3</th>\n",
       "      <td>1.013473</td>\n",
       "      <td>1.769476</td>\n",
       "      <td>-0.263739</td>\n",
       "      <td>0.800871</td>\n",
       "      <td>1.016549</td>\n",
       "      <td>0.682902</td>\n",
       "      <td>-0.904768</td>\n",
       "      <td>0.935872</td>\n",
       "    </tr>\n",
       "    <tr>\n",
       "      <th>4</th>\n",
       "      <td>1.013473</td>\n",
       "      <td>1.181289</td>\n",
       "      <td>1.089985</td>\n",
       "      <td>-0.106755</td>\n",
       "      <td>0.092912</td>\n",
       "      <td>-0.663350</td>\n",
       "      <td>0.758605</td>\n",
       "      <td>0.148558</td>\n",
       "    </tr>\n",
       "    <tr>\n",
       "      <th>...</th>\n",
       "      <td>...</td>\n",
       "      <td>...</td>\n",
       "      <td>...</td>\n",
       "      <td>...</td>\n",
       "      <td>...</td>\n",
       "      <td>...</td>\n",
       "      <td>...</td>\n",
       "      <td>...</td>\n",
       "    </tr>\n",
       "    <tr>\n",
       "      <th>4233</th>\n",
       "      <td>-0.972700</td>\n",
       "      <td>-0.667296</td>\n",
       "      <td>1.721723</td>\n",
       "      <td>2.116930</td>\n",
       "      <td>0.764648</td>\n",
       "      <td>0.041713</td>\n",
       "      <td>-0.821599</td>\n",
       "      <td>0.192298</td>\n",
       "    </tr>\n",
       "    <tr>\n",
       "      <th>4234</th>\n",
       "      <td>1.013473</td>\n",
       "      <td>2.861821</td>\n",
       "      <td>-0.669856</td>\n",
       "      <td>-0.265590</td>\n",
       "      <td>-0.242955</td>\n",
       "      <td>-1.496159</td>\n",
       "      <td>-0.904768</td>\n",
       "      <td>-0.595016</td>\n",
       "    </tr>\n",
       "    <tr>\n",
       "      <th>4235</th>\n",
       "      <td>0.020387</td>\n",
       "      <td>0.929210</td>\n",
       "      <td>0.255189</td>\n",
       "      <td>-0.061374</td>\n",
       "      <td>-0.914691</td>\n",
       "      <td>-0.933583</td>\n",
       "      <td>0.675436</td>\n",
       "      <td>0.192298</td>\n",
       "    </tr>\n",
       "    <tr>\n",
       "      <th>4236</th>\n",
       "      <td>-0.972700</td>\n",
       "      <td>0.509077</td>\n",
       "      <td>-0.602170</td>\n",
       "      <td>-0.265590</td>\n",
       "      <td>0.344813</td>\n",
       "      <td>-1.631275</td>\n",
       "      <td>0.841773</td>\n",
       "      <td>-0.157620</td>\n",
       "    </tr>\n",
       "    <tr>\n",
       "      <th>4237</th>\n",
       "      <td>0.020387</td>\n",
       "      <td>-0.751322</td>\n",
       "      <td>0.728992</td>\n",
       "      <td>0.052079</td>\n",
       "      <td>0.008946</td>\n",
       "      <td>-1.063786</td>\n",
       "      <td>0.342761</td>\n",
       "      <td>1.110830</td>\n",
       "    </tr>\n",
       "  </tbody>\n",
       "</table>\n",
       "<p>4238 rows × 8 columns</p>\n",
       "</div>"
      ],
      "text/plain": [
       "      education  cigsPerDay   totChol     sysBP     diaBP       BMI  \\\n",
       "0      2.006559   -0.751322 -0.940600 -1.195907 -1.082625  0.287379   \n",
       "1      0.020387   -0.751322  0.300313 -0.515187 -0.158988  0.719752   \n",
       "2     -0.972700    0.929210  0.187503 -0.220209 -0.242955 -0.113057   \n",
       "3      1.013473    1.769476 -0.263739  0.800871  1.016549  0.682902   \n",
       "4      1.013473    1.181289  1.089985 -0.106755  0.092912 -0.663350   \n",
       "...         ...         ...       ...       ...       ...       ...   \n",
       "4233  -0.972700   -0.667296  1.721723  2.116930  0.764648  0.041713   \n",
       "4234   1.013473    2.861821 -0.669856 -0.265590 -0.242955 -1.496159   \n",
       "4235   0.020387    0.929210  0.255189 -0.061374 -0.914691 -0.933583   \n",
       "4236  -0.972700    0.509077 -0.602170 -0.265590  0.344813 -1.631275   \n",
       "4237   0.020387   -0.751322  0.728992  0.052079  0.008946 -1.063786   \n",
       "\n",
       "      heartRate   glucose  \n",
       "0      0.342761 -0.201359  \n",
       "1      1.590291 -0.245099  \n",
       "2     -0.073082 -0.507537  \n",
       "3     -0.904768  0.935872  \n",
       "4      0.758605  0.148558  \n",
       "...         ...       ...  \n",
       "4233  -0.821599  0.192298  \n",
       "4234  -0.904768 -0.595016  \n",
       "4235   0.675436  0.192298  \n",
       "4236   0.841773 -0.157620  \n",
       "4237   0.342761  1.110830  \n",
       "\n",
       "[4238 rows x 8 columns]"
      ]
     },
     "execution_count": 114,
     "metadata": {},
     "output_type": "execute_result"
    }
   ],
   "source": [
    "dataz"
   ]
  },
  {
   "cell_type": "markdown",
   "id": "d0ff1990-fd95-4d39-ad5d-783e09983050",
   "metadata": {},
   "source": [
    "### Treating the Outlier \n",
    "\n",
    "  - Removing outliers is a good option if there are errors or wrong analysis.\n",
    "  - Transforming data can make outliers less extreme.\n",
    "  - Capping outliers is another way to limit their influence.\n",
    "  - For valid outliers, you may decide to leave them as they are or apply robust methods.\n",
    "  - copied from GPT"
   ]
  },
  {
   "cell_type": "code",
   "execution_count": 127,
   "id": "50806bf7-1eee-4f2a-a1bb-83c7969ed64c",
   "metadata": {},
   "outputs": [
    {
     "data": {
      "text/plain": [
       "['education',\n",
       " 'cigsPerDay',\n",
       " 'totChol',\n",
       " 'sysBP',\n",
       " 'diaBP',\n",
       " 'BMI',\n",
       " 'heartRate',\n",
       " 'glucose']"
      ]
     },
     "execution_count": 127,
     "metadata": {},
     "output_type": "execute_result"
    }
   ],
   "source": [
    "numerical_features"
   ]
  },
  {
   "cell_type": "markdown",
   "id": "24a0d2c9-2f36-49b3-99b3-8b858ae18f81",
   "metadata": {},
   "source": [
    "#### what is cappling ? \n",
    "\n",
    "What is Capping?\n",
    "Capping involves limiting the values of the outliers to a certain threshold (upper or lower limit). The idea is to keep extreme values in the data but restrict them to a reasonable range. This prevents outliers from disproportionately affecting the analysis or model without removing them entirely.\n",
    "\n",
    "Simple Example of Capping\n",
    " - Let’s say you have the following data for a feature called age:\n",
    "\n",
    "<table border = 1>\n",
    "<tr>\n",
    "    <th align = 'center' colspan = 8>AGE</th>\n",
    "</tr>\n",
    "<tr>\n",
    "    <td>25</td>\n",
    "    <td>30</td>\n",
    "    <td>35</td>\n",
    "    <td>40</td>\n",
    "    <td>120</td>\n",
    "    <td>100</td>\n",
    "    <td>85</td>\n",
    "    <td>22</td>\n",
    "</tr>\n",
    "</table>\n",
    "\n",
    "\n",
    "In this dataset, the values 120 and 100 seem like outliers (maybe someone entered an incorrect value for age). You can cap these values to a reasonable upper threshold, like 80, instead of removing them.\n",
    "\n",
    "Steps to Cap Outliers:\n",
    "Determine a Threshold: For this example, let’s say we set the upper limit (cap) to 80.\n",
    "\n",
    "Identify the Outliers: Any values greater than 80 are considered outliers.\n",
    "\n",
    "Apply the Cap: Change any value above 80 to 80.\n",
    "\n",
    "After capping, the dataset would look like this:\n",
    "\n",
    "<table border = 1>\n",
    "<tr>\n",
    "    <th align = 'center' colspan = 8>AGE</th>\n",
    "</tr>\n",
    "<tr>\n",
    "    <td>25</td>\n",
    "    <td>30</td>\n",
    "    <td>35</td>\n",
    "    <td>40</td>\n",
    "    <td><span style =\"color : red\">80</span></td>\n",
    "    <td><span style =\"color : red\">80</span></td>\n",
    "    <td>85</td>\n",
    "    <td>22</td>\n",
    "</tr>\n",
    "</table>\n",
    "\n",
    "Now, the outliers (120 and 100) have been replaced with the capped value of 80. This ensures the data is within a reasonable range without completely removing those rows.\n",
    "\n"
   ]
  },
  {
   "cell_type": "markdown",
   "id": "b8404e1a-2402-4724-971e-7717316139d2",
   "metadata": {},
   "source": [
    "#### When to Use Capping?\n",
    "Use capping when:\n",
    " - You believe the outliers are valid but extreme (e.g., rare medical cases, extreme behaviors).\n",
    " - You don’t want to lose valuable information by removing outliers entirely.\n",
    " - You want to ensure that the outliers don't have too much influence on statistical measures like the mean."
   ]
  },
  {
   "cell_type": "markdown",
   "id": "6e125427-92a1-47fb-a59f-81938f1612e0",
   "metadata": {},
   "source": [
    "#### by capping the medical feattures like sysBP, diaBP,totChol, and glucose "
   ]
  },
  {
   "cell_type": "code",
   "execution_count": 128,
   "id": "106ad15c-8698-4b46-ab89-dcfdb7cd6a2f",
   "metadata": {},
   "outputs": [
    {
     "data": {
      "text/plain": [
       "count    4238.000000\n",
       "mean       81.603587\n",
       "std        22.865246\n",
       "min        40.000000\n",
       "25%        72.000000\n",
       "50%        78.000000\n",
       "75%        85.000000\n",
       "max       394.000000\n",
       "Name: glucose, dtype: float64"
      ]
     },
     "execution_count": 128,
     "metadata": {},
     "output_type": "execute_result"
    }
   ],
   "source": [
    "df['glucose'].describe()"
   ]
  },
  {
   "cell_type": "code",
   "execution_count": 129,
   "id": "292f4277-9455-43fc-b64a-6571da29f7c3",
   "metadata": {},
   "outputs": [],
   "source": [
    "upper_value = df['glucose'].quantile(0.95)\n",
    "lower_value = df['glucose'].quantile(0.05)\n",
    "df['glucose'] = df['glucose'].clip(lower=lower_value,upper=upper_value)"
   ]
  },
  {
   "cell_type": "code",
   "execution_count": 130,
   "id": "20377c4e-7da5-4344-9674-c83f0ead6c2e",
   "metadata": {},
   "outputs": [
    {
     "data": {
      "text/plain": [
       "count    4238.000000\n",
       "mean       79.763332\n",
       "std        11.450539\n",
       "min        62.000000\n",
       "25%        72.000000\n",
       "50%        78.000000\n",
       "75%        85.000000\n",
       "max       107.000000\n",
       "Name: glucose, dtype: float64"
      ]
     },
     "execution_count": 130,
     "metadata": {},
     "output_type": "execute_result"
    }
   ],
   "source": [
    "df['glucose'].describe()  "
   ]
  },
  {
   "cell_type": "code",
   "execution_count": 131,
   "id": "3d0d6234-e067-4d09-b5f0-4759f9aba647",
   "metadata": {},
   "outputs": [
    {
     "data": {
      "text/plain": [
       "count    4238.000000\n",
       "mean      132.352407\n",
       "std        22.038097\n",
       "min        83.500000\n",
       "25%       117.000000\n",
       "50%       128.000000\n",
       "75%       144.000000\n",
       "max       295.000000\n",
       "Name: sysBP, dtype: float64"
      ]
     },
     "execution_count": 131,
     "metadata": {},
     "output_type": "execute_result"
    }
   ],
   "source": [
    "#before capping \n",
    "df['sysBP'].describe()"
   ]
  },
  {
   "cell_type": "code",
   "execution_count": 132,
   "id": "73744768-dfc4-43f9-b92c-6862bacb215e",
   "metadata": {},
   "outputs": [],
   "source": [
    "bp = ['sysBP','diaBP','totChol']\n",
    "for i in range(len(bp)):\n",
    "    upper_value = df[bp[i]].quantile(0.95)\n",
    "    lower_value = df[bp[i]].quantile(0.05)\n",
    "    df[bp[i]] = df[bp[i]].clip(lower=lower_value,upper=upper_value)"
   ]
  },
  {
   "cell_type": "code",
   "execution_count": 133,
   "id": "9b80e386-d72d-4d6b-a456-64f1d942a882",
   "metadata": {},
   "outputs": [
    {
     "data": {
      "text/plain": [
       "count    4238.000000\n",
       "mean      131.761444\n",
       "std        19.410165\n",
       "min       104.000000\n",
       "25%       117.000000\n",
       "50%       128.000000\n",
       "75%       144.000000\n",
       "max       175.000000\n",
       "Name: sysBP, dtype: float64"
      ]
     },
     "execution_count": 133,
     "metadata": {},
     "output_type": "execute_result"
    }
   ],
   "source": [
    "#after capping \n",
    "df['sysBP'].describe()"
   ]
  },
  {
   "cell_type": "markdown",
   "id": "582f86e9-4892-46e4-98b1-29670cc9eb9f",
   "metadata": {},
   "source": [
    "#### by behavioural feature like cigsPerDay "
   ]
  },
  {
   "cell_type": "code",
   "execution_count": 134,
   "id": "dff29dad-00b4-47c6-9419-857b4e26442e",
   "metadata": {},
   "outputs": [
    {
     "data": {
      "text/plain": [
       "cigsPerDay\n",
       "0.0     2173\n",
       "1.0       67\n",
       "2.0       18\n",
       "3.0      100\n",
       "4.0        9\n",
       "5.0      121\n",
       "6.0       18\n",
       "7.0       12\n",
       "8.0       11\n",
       "9.0      130\n",
       "10.0     143\n",
       "11.0       5\n",
       "12.0       3\n",
       "13.0       3\n",
       "14.0       2\n",
       "15.0     210\n",
       "16.0       3\n",
       "17.0       7\n",
       "18.0       8\n",
       "19.0       2\n",
       "20.0     734\n",
       "23.0       6\n",
       "25.0      55\n",
       "29.0       1\n",
       "30.0     217\n",
       "35.0      22\n",
       "38.0       1\n",
       "40.0      80\n",
       "43.0      56\n",
       "45.0       3\n",
       "50.0       6\n",
       "60.0      11\n",
       "70.0       1\n",
       "Name: count, dtype: int64"
      ]
     },
     "execution_count": 134,
     "metadata": {},
     "output_type": "execute_result"
    }
   ],
   "source": [
    "df['cigsPerDay'].value_counts().sort_index()"
   ]
  },
  {
   "cell_type": "markdown",
   "id": "fcad97df-40ac-4887-923a-4807f4b4ff30",
   "metadata": {},
   "source": [
    "On this outlier , may be people uses cigratte extreme or mistake from data entry  \n",
    " "
   ]
  },
  {
   "cell_type": "markdown",
   "id": "23ba2369-9e2e-465c-9051-2b338a9479fa",
   "metadata": {},
   "source": [
    "In domain knwoledge,   \n",
    "on a day, using  70 cigratte is too rare  \n"
   ]
  },
  {
   "cell_type": "markdown",
   "id": "4925f516-ab15-4ee3-8f7c-9e66d081a1c2",
   "metadata": {},
   "source": [
    "2, visualizing by hist plot "
   ]
  },
  {
   "cell_type": "code",
   "execution_count": 135,
   "id": "3c049fdc-056a-43c9-a307-f0c5d907236a",
   "metadata": {},
   "outputs": [
    {
     "data": {
      "text/plain": [
       "<Axes: >"
      ]
     },
     "execution_count": 135,
     "metadata": {},
     "output_type": "execute_result"
    },
    {
     "data": {
      "image/png": "[encoded data removed]",
      "text/plain": [
       "<Figure size 640x480 with 1 Axes>"
      ]
     },
     "metadata": {},
     "output_type": "display_data"
    }
   ],
   "source": [
    "df['cigsPerDay'].hist(bins=30)#"
   ]
  },
  {
   "cell_type": "markdown",
   "id": "337c90f1-5806-4641-b26c-24d1546c0c5f",
   "metadata": {},
   "source": [
    "observation : \n",
    "\n",
    " - 50,60 or 70 cigratte using daily is very rare happens \n",
    " - so set upper limit as 40 [that is daily 2 packets ]"
   ]
  },
  {
   "cell_type": "code",
   "execution_count": 136,
   "id": "ef73fa2d-aff7-4560-aac6-3e5e47d5491a",
   "metadata": {},
   "outputs": [],
   "source": [
    "limit = 40 \n",
    "df['cigsPerDay'] = df['cigsPerDay'].clip(upper=limit)\n"
   ]
  },
  {
   "cell_type": "code",
   "execution_count": 137,
   "id": "a5a73106-02f3-4f18-8982-0629a000e751",
   "metadata": {},
   "outputs": [
    {
     "data": {
      "text/plain": [
       "cigsPerDay\n",
       "0.0     2173\n",
       "1.0       67\n",
       "2.0       18\n",
       "3.0      100\n",
       "4.0        9\n",
       "5.0      121\n",
       "6.0       18\n",
       "7.0       12\n",
       "8.0       11\n",
       "9.0      130\n",
       "10.0     143\n",
       "11.0       5\n",
       "12.0       3\n",
       "13.0       3\n",
       "14.0       2\n",
       "15.0     210\n",
       "16.0       3\n",
       "17.0       7\n",
       "18.0       8\n",
       "19.0       2\n",
       "20.0     734\n",
       "23.0       6\n",
       "25.0      55\n",
       "29.0       1\n",
       "30.0     217\n",
       "35.0      22\n",
       "38.0       1\n",
       "40.0     157\n",
       "Name: count, dtype: int64"
      ]
     },
     "execution_count": 137,
     "metadata": {},
     "output_type": "execute_result"
    }
   ],
   "source": [
    "df['cigsPerDay'].value_counts().sort_index()"
   ]
  },
  {
   "cell_type": "markdown",
   "id": "23a0303d-0029-4948-b4fe-6debfe70a589",
   "metadata": {},
   "source": [
    "### by medical related feature as BMI and heartRate"
   ]
  },
  {
   "cell_type": "markdown",
   "id": "8c4fb7df-7e30-48bf-af75-7b57af84779d",
   "metadata": {},
   "source": [
    "#### in BMI value < 10 and value > 50 is outlier  , value >= 40 is danger situation"
   ]
  },
  {
   "cell_type": "code",
   "execution_count": 142,
   "id": "d0b7130c-a80e-46d3-a4a9-9150f4715cc4",
   "metadata": {},
   "outputs": [
    {
     "data": {
      "text/plain": [
       "BMI\n",
       "15.54     1\n",
       "15.96     1\n",
       "16.48     1\n",
       "16.59     2\n",
       "16.61     1\n",
       "         ..\n",
       "39.82     1\n",
       "39.88     1\n",
       "39.91     1\n",
       "39.94     2\n",
       "40.00    26\n",
       "Name: count, Length: 1338, dtype: int64"
      ]
     },
     "execution_count": 142,
     "metadata": {},
     "output_type": "execute_result"
    }
   ],
   "source": [
    "df['BMI'].value_counts().sort_index()"
   ]
  },
  {
   "cell_type": "code",
   "execution_count": 161,
   "id": "c840cbd3-c92d-4aa5-a642-25f8f0101ad0",
   "metadata": {},
   "outputs": [],
   "source": [
    "limit = 40\n",
    "df['BMI'] = df['BMI'].clip(upper=limit)"
   ]
  },
  {
   "cell_type": "code",
   "execution_count": 144,
   "id": "fbfde956-c575-41d5-bc86-4d2fb88ee6e3",
   "metadata": {},
   "outputs": [
    {
     "data": {
      "text/plain": [
       "BMI\n",
       "15.54     1\n",
       "15.96     1\n",
       "16.48     1\n",
       "16.59     2\n",
       "16.61     1\n",
       "         ..\n",
       "39.82     1\n",
       "39.88     1\n",
       "39.91     1\n",
       "39.94     2\n",
       "40.00    26\n",
       "Name: count, Length: 1338, dtype: int64"
      ]
     },
     "execution_count": 144,
     "metadata": {},
     "output_type": "execute_result"
    }
   ],
   "source": [
    "df['BMI'].value_counts().sort_index()"
   ]
  },
  {
   "cell_type": "code",
   "execution_count": 145,
   "id": "d58e9559-6017-4ec3-8a73-371fce75c782",
   "metadata": {},
   "outputs": [
    {
     "data": {
      "text/plain": [
       "<Axes: >"
      ]
     },
     "execution_count": 145,
     "metadata": {},
     "output_type": "execute_result"
    },
    {
     "data": {
      "image/png": "[encoded data removed]",
      "text/plain": [
       "<Figure size 640x480 with 1 Axes>"
      ]
     },
     "metadata": {},
     "output_type": "display_data"
    }
   ],
   "source": [
    "df['BMI'].hist(bins=30)"
   ]
  },
  {
   "cell_type": "markdown",
   "id": "a8716837-63d0-4db7-ab5e-eb6563306952",
   "metadata": {},
   "source": [
    "#### by heart rate , On a minute 30 bpmh is outlier also 200bpmh outlier \n"
   ]
  },
  {
   "cell_type": "code",
   "execution_count": 146,
   "id": "7d3a852a-374c-438e-b4ef-bbff05cfaf5a",
   "metadata": {},
   "outputs": [
    {
     "data": {
      "text/plain": [
       "count    4238.000000\n",
       "mean       75.878716\n",
       "std        12.025185\n",
       "min        44.000000\n",
       "25%        68.000000\n",
       "50%        75.000000\n",
       "75%        83.000000\n",
       "max       143.000000\n",
       "Name: heartRate, dtype: float64"
      ]
     },
     "execution_count": 146,
     "metadata": {},
     "output_type": "execute_result"
    }
   ],
   "source": [
    "df['heartRate'].describe()"
   ]
  },
  {
   "cell_type": "code",
   "execution_count": 147,
   "id": "e10ea0ce-830d-4e75-828e-b44fe632a332",
   "metadata": {},
   "outputs": [
    {
     "data": {
      "text/plain": [
       "heartRate\n",
       "44.0     1\n",
       "45.0     2\n",
       "46.0     1\n",
       "47.0     1\n",
       "48.0     5\n",
       "        ..\n",
       "122.0    2\n",
       "125.0    3\n",
       "130.0    1\n",
       "140.0    1\n",
       "143.0    1\n",
       "Name: count, Length: 73, dtype: int64"
      ]
     },
     "execution_count": 147,
     "metadata": {},
     "output_type": "execute_result"
    }
   ],
   "source": [
    "df['heartRate'].value_counts().sort_index()"
   ]
  },
  {
   "cell_type": "code",
   "execution_count": 148,
   "id": "5e8c23da-746d-4365-81d1-43f26be0e4bf",
   "metadata": {},
   "outputs": [
    {
     "data": {
      "text/html": [
       "<div>\n",
       "<style scoped>\n",
       "    .dataframe tbody tr th:only-of-type {\n",
       "        vertical-align: middle;\n",
       "    }\n",
       "\n",
       "    .dataframe tbody tr th {\n",
       "        vertical-align: top;\n",
       "    }\n",
       "\n",
       "    .dataframe thead th {\n",
       "        text-align: right;\n",
       "    }\n",
       "</style>\n",
       "<table border=\"1\" class=\"dataframe\">\n",
       "  <thead>\n",
       "    <tr style=\"text-align: right;\">\n",
       "      <th></th>\n",
       "      <th>male</th>\n",
       "      <th>age</th>\n",
       "      <th>education</th>\n",
       "      <th>currentSmoker</th>\n",
       "      <th>cigsPerDay</th>\n",
       "      <th>BPMeds</th>\n",
       "      <th>prevalentStroke</th>\n",
       "      <th>prevalentHyp</th>\n",
       "      <th>diabetes</th>\n",
       "      <th>totChol</th>\n",
       "      <th>sysBP</th>\n",
       "      <th>diaBP</th>\n",
       "      <th>BMI</th>\n",
       "      <th>heartRate</th>\n",
       "      <th>glucose</th>\n",
       "      <th>TenYearCHD</th>\n",
       "    </tr>\n",
       "  </thead>\n",
       "  <tbody>\n",
       "    <tr>\n",
       "      <th>87</th>\n",
       "      <td>0</td>\n",
       "      <td>61</td>\n",
       "      <td>2.0</td>\n",
       "      <td>1</td>\n",
       "      <td>1.0</td>\n",
       "      <td>0</td>\n",
       "      <td>0</td>\n",
       "      <td>1</td>\n",
       "      <td>0</td>\n",
       "      <td>312.0</td>\n",
       "      <td>175.0</td>\n",
       "      <td>104.0</td>\n",
       "      <td>38.46</td>\n",
       "      <td>57.0</td>\n",
       "      <td>78.0</td>\n",
       "      <td>0</td>\n",
       "    </tr>\n",
       "    <tr>\n",
       "      <th>99</th>\n",
       "      <td>0</td>\n",
       "      <td>56</td>\n",
       "      <td>1.0</td>\n",
       "      <td>1</td>\n",
       "      <td>15.0</td>\n",
       "      <td>0</td>\n",
       "      <td>0</td>\n",
       "      <td>0</td>\n",
       "      <td>0</td>\n",
       "      <td>269.0</td>\n",
       "      <td>121.0</td>\n",
       "      <td>75.0</td>\n",
       "      <td>22.36</td>\n",
       "      <td>50.0</td>\n",
       "      <td>66.0</td>\n",
       "      <td>0</td>\n",
       "    </tr>\n",
       "    <tr>\n",
       "      <th>116</th>\n",
       "      <td>1</td>\n",
       "      <td>60</td>\n",
       "      <td>1.0</td>\n",
       "      <td>0</td>\n",
       "      <td>0.0</td>\n",
       "      <td>0</td>\n",
       "      <td>0</td>\n",
       "      <td>1</td>\n",
       "      <td>0</td>\n",
       "      <td>278.0</td>\n",
       "      <td>160.5</td>\n",
       "      <td>96.0</td>\n",
       "      <td>26.40</td>\n",
       "      <td>55.0</td>\n",
       "      <td>75.0</td>\n",
       "      <td>1</td>\n",
       "    </tr>\n",
       "    <tr>\n",
       "      <th>137</th>\n",
       "      <td>1</td>\n",
       "      <td>61</td>\n",
       "      <td>2.0</td>\n",
       "      <td>0</td>\n",
       "      <td>0.0</td>\n",
       "      <td>0</td>\n",
       "      <td>0</td>\n",
       "      <td>0</td>\n",
       "      <td>0</td>\n",
       "      <td>246.0</td>\n",
       "      <td>124.0</td>\n",
       "      <td>70.0</td>\n",
       "      <td>25.63</td>\n",
       "      <td>55.0</td>\n",
       "      <td>78.0</td>\n",
       "      <td>1</td>\n",
       "    </tr>\n",
       "    <tr>\n",
       "      <th>144</th>\n",
       "      <td>0</td>\n",
       "      <td>56</td>\n",
       "      <td>1.0</td>\n",
       "      <td>1</td>\n",
       "      <td>3.0</td>\n",
       "      <td>0</td>\n",
       "      <td>0</td>\n",
       "      <td>1</td>\n",
       "      <td>0</td>\n",
       "      <td>279.0</td>\n",
       "      <td>136.0</td>\n",
       "      <td>94.0</td>\n",
       "      <td>32.99</td>\n",
       "      <td>50.0</td>\n",
       "      <td>102.0</td>\n",
       "      <td>0</td>\n",
       "    </tr>\n",
       "    <tr>\n",
       "      <th>...</th>\n",
       "      <td>...</td>\n",
       "      <td>...</td>\n",
       "      <td>...</td>\n",
       "      <td>...</td>\n",
       "      <td>...</td>\n",
       "      <td>...</td>\n",
       "      <td>...</td>\n",
       "      <td>...</td>\n",
       "      <td>...</td>\n",
       "      <td>...</td>\n",
       "      <td>...</td>\n",
       "      <td>...</td>\n",
       "      <td>...</td>\n",
       "      <td>...</td>\n",
       "      <td>...</td>\n",
       "      <td>...</td>\n",
       "    </tr>\n",
       "    <tr>\n",
       "      <th>4150</th>\n",
       "      <td>0</td>\n",
       "      <td>62</td>\n",
       "      <td>1.0</td>\n",
       "      <td>0</td>\n",
       "      <td>0.0</td>\n",
       "      <td>0</td>\n",
       "      <td>0</td>\n",
       "      <td>0</td>\n",
       "      <td>0</td>\n",
       "      <td>207.0</td>\n",
       "      <td>127.5</td>\n",
       "      <td>75.0</td>\n",
       "      <td>22.91</td>\n",
       "      <td>58.0</td>\n",
       "      <td>80.0</td>\n",
       "      <td>0</td>\n",
       "    </tr>\n",
       "    <tr>\n",
       "      <th>4163</th>\n",
       "      <td>1</td>\n",
       "      <td>65</td>\n",
       "      <td>4.0</td>\n",
       "      <td>1</td>\n",
       "      <td>6.0</td>\n",
       "      <td>0</td>\n",
       "      <td>0</td>\n",
       "      <td>0</td>\n",
       "      <td>0</td>\n",
       "      <td>236.0</td>\n",
       "      <td>118.5</td>\n",
       "      <td>77.5</td>\n",
       "      <td>24.30</td>\n",
       "      <td>52.0</td>\n",
       "      <td>65.0</td>\n",
       "      <td>1</td>\n",
       "    </tr>\n",
       "    <tr>\n",
       "      <th>4195</th>\n",
       "      <td>0</td>\n",
       "      <td>40</td>\n",
       "      <td>2.0</td>\n",
       "      <td>1</td>\n",
       "      <td>9.0</td>\n",
       "      <td>0</td>\n",
       "      <td>0</td>\n",
       "      <td>0</td>\n",
       "      <td>0</td>\n",
       "      <td>207.0</td>\n",
       "      <td>124.0</td>\n",
       "      <td>78.0</td>\n",
       "      <td>22.90</td>\n",
       "      <td>46.0</td>\n",
       "      <td>66.0</td>\n",
       "      <td>0</td>\n",
       "    </tr>\n",
       "    <tr>\n",
       "      <th>4207</th>\n",
       "      <td>0</td>\n",
       "      <td>61</td>\n",
       "      <td>4.0</td>\n",
       "      <td>0</td>\n",
       "      <td>0.0</td>\n",
       "      <td>0</td>\n",
       "      <td>0</td>\n",
       "      <td>0</td>\n",
       "      <td>0</td>\n",
       "      <td>261.0</td>\n",
       "      <td>124.0</td>\n",
       "      <td>76.5</td>\n",
       "      <td>23.06</td>\n",
       "      <td>55.0</td>\n",
       "      <td>83.0</td>\n",
       "      <td>1</td>\n",
       "    </tr>\n",
       "    <tr>\n",
       "      <th>4230</th>\n",
       "      <td>0</td>\n",
       "      <td>56</td>\n",
       "      <td>1.0</td>\n",
       "      <td>1</td>\n",
       "      <td>3.0</td>\n",
       "      <td>0</td>\n",
       "      <td>0</td>\n",
       "      <td>1</td>\n",
       "      <td>0</td>\n",
       "      <td>268.0</td>\n",
       "      <td>170.0</td>\n",
       "      <td>102.0</td>\n",
       "      <td>22.89</td>\n",
       "      <td>57.0</td>\n",
       "      <td>78.0</td>\n",
       "      <td>0</td>\n",
       "    </tr>\n",
       "  </tbody>\n",
       "</table>\n",
       "<p>206 rows × 16 columns</p>\n",
       "</div>"
      ],
      "text/plain": [
       "      male  age  education  currentSmoker  cigsPerDay  BPMeds  \\\n",
       "87       0   61        2.0              1         1.0       0   \n",
       "99       0   56        1.0              1        15.0       0   \n",
       "116      1   60        1.0              0         0.0       0   \n",
       "137      1   61        2.0              0         0.0       0   \n",
       "144      0   56        1.0              1         3.0       0   \n",
       "...    ...  ...        ...            ...         ...     ...   \n",
       "4150     0   62        1.0              0         0.0       0   \n",
       "4163     1   65        4.0              1         6.0       0   \n",
       "4195     0   40        2.0              1         9.0       0   \n",
       "4207     0   61        4.0              0         0.0       0   \n",
       "4230     0   56        1.0              1         3.0       0   \n",
       "\n",
       "      prevalentStroke  prevalentHyp  diabetes  totChol  sysBP  diaBP    BMI  \\\n",
       "87                  0             1         0    312.0  175.0  104.0  38.46   \n",
       "99                  0             0         0    269.0  121.0   75.0  22.36   \n",
       "116                 0             1         0    278.0  160.5   96.0  26.40   \n",
       "137                 0             0         0    246.0  124.0   70.0  25.63   \n",
       "144                 0             1         0    279.0  136.0   94.0  32.99   \n",
       "...               ...           ...       ...      ...    ...    ...    ...   \n",
       "4150                0             0         0    207.0  127.5   75.0  22.91   \n",
       "4163                0             0         0    236.0  118.5   77.5  24.30   \n",
       "4195                0             0         0    207.0  124.0   78.0  22.90   \n",
       "4207                0             0         0    261.0  124.0   76.5  23.06   \n",
       "4230                0             1         0    268.0  170.0  102.0  22.89   \n",
       "\n",
       "      heartRate  glucose  TenYearCHD  \n",
       "87         57.0     78.0           0  \n",
       "99         50.0     66.0           0  \n",
       "116        55.0     75.0           1  \n",
       "137        55.0     78.0           1  \n",
       "144        50.0    102.0           0  \n",
       "...         ...      ...         ...  \n",
       "4150       58.0     80.0           0  \n",
       "4163       52.0     65.0           1  \n",
       "4195       46.0     66.0           0  \n",
       "4207       55.0     83.0           1  \n",
       "4230       57.0     78.0           0  \n",
       "\n",
       "[206 rows x 16 columns]"
      ]
     },
     "execution_count": 148,
     "metadata": {},
     "output_type": "execute_result"
    }
   ],
   "source": [
    "df[df['heartRate'] < 60]"
   ]
  },
  {
   "cell_type": "code",
   "execution_count": 149,
   "id": "a84c7501-721d-4173-ae12-55e05e23c274",
   "metadata": {},
   "outputs": [
    {
     "data": {
      "text/plain": [
       "np.float64(75.0)"
      ]
     },
     "execution_count": 149,
     "metadata": {},
     "output_type": "execute_result"
    }
   ],
   "source": [
    "df['heartRate'].median()"
   ]
  },
  {
   "cell_type": "code",
   "execution_count": 150,
   "id": "5c464228-410e-4155-b49d-36bf11d84c12",
   "metadata": {},
   "outputs": [
    {
     "data": {
      "text/plain": [
       "<Axes: >"
      ]
     },
     "execution_count": 150,
     "metadata": {},
     "output_type": "execute_result"
    },
    {
     "data": {
      "image/png": "[encoded data removed]",
      "text/plain": [
       "<Figure size 640x480 with 1 Axes>"
      ]
     },
     "metadata": {},
     "output_type": "display_data"
    }
   ],
   "source": [
    "df['heartRate'].hist(bins=30)"
   ]
  },
  {
   "cell_type": "code",
   "execution_count": 151,
   "id": "899a087d-aa79-4c04-bd1f-0ce4887055b5",
   "metadata": {},
   "outputs": [
    {
     "data": {
      "text/plain": [
       "np.float64(60.0)"
      ]
     },
     "execution_count": 151,
     "metadata": {},
     "output_type": "execute_result"
    }
   ],
   "source": [
    "df['heartRate'].quantile(0.10)"
   ]
  },
  {
   "cell_type": "markdown",
   "id": "2cbc1f91-5985-44af-b81e-77eba670e906",
   "metadata": {},
   "source": [
    "### change value by RANDOMIZED SAMPLING WITH IN RANGE\n",
    "\n",
    "instead of giving upper and lower limit values to outlier , here we can do randomized technique, which select randomly value from overall data and assigning to outlier value without removing "
   ]
  },
  {
   "cell_type": "code",
   "execution_count": 176,
   "id": "075afd88-51c5-4af0-80eb-132dba422e0a",
   "metadata": {},
   "outputs": [
    {
     "data": {
      "text/html": [
       "<div>\n",
       "<style scoped>\n",
       "    .dataframe tbody tr th:only-of-type {\n",
       "        vertical-align: middle;\n",
       "    }\n",
       "\n",
       "    .dataframe tbody tr th {\n",
       "        vertical-align: top;\n",
       "    }\n",
       "\n",
       "    .dataframe thead th {\n",
       "        text-align: right;\n",
       "    }\n",
       "</style>\n",
       "<table border=\"1\" class=\"dataframe\">\n",
       "  <thead>\n",
       "    <tr style=\"text-align: right;\">\n",
       "      <th></th>\n",
       "      <th>male</th>\n",
       "      <th>age</th>\n",
       "      <th>education</th>\n",
       "      <th>currentSmoker</th>\n",
       "      <th>cigsPerDay</th>\n",
       "      <th>BPMeds</th>\n",
       "      <th>prevalentStroke</th>\n",
       "      <th>prevalentHyp</th>\n",
       "      <th>diabetes</th>\n",
       "      <th>totChol</th>\n",
       "      <th>sysBP</th>\n",
       "      <th>diaBP</th>\n",
       "      <th>BMI</th>\n",
       "      <th>heartRate</th>\n",
       "      <th>glucose</th>\n",
       "      <th>TenYearCHD</th>\n",
       "    </tr>\n",
       "  </thead>\n",
       "  <tbody>\n",
       "    <tr>\n",
       "      <th>2733</th>\n",
       "      <td>1</td>\n",
       "      <td>53</td>\n",
       "      <td>3.0</td>\n",
       "      <td>1</td>\n",
       "      <td>30.0</td>\n",
       "      <td>1</td>\n",
       "      <td>0</td>\n",
       "      <td>1</td>\n",
       "      <td>0</td>\n",
       "      <td>190.0</td>\n",
       "      <td>141.0</td>\n",
       "      <td>104.575</td>\n",
       "      <td>21.01</td>\n",
       "      <td>115.0</td>\n",
       "      <td>86.0</td>\n",
       "      <td>1</td>\n",
       "    </tr>\n",
       "    <tr>\n",
       "      <th>3233</th>\n",
       "      <td>0</td>\n",
       "      <td>66</td>\n",
       "      <td>1.0</td>\n",
       "      <td>0</td>\n",
       "      <td>0.0</td>\n",
       "      <td>0</td>\n",
       "      <td>0</td>\n",
       "      <td>1</td>\n",
       "      <td>0</td>\n",
       "      <td>263.0</td>\n",
       "      <td>175.0</td>\n",
       "      <td>95.000</td>\n",
       "      <td>27.07</td>\n",
       "      <td>115.0</td>\n",
       "      <td>94.0</td>\n",
       "      <td>1</td>\n",
       "    </tr>\n",
       "    <tr>\n",
       "      <th>3242</th>\n",
       "      <td>1</td>\n",
       "      <td>52</td>\n",
       "      <td>3.0</td>\n",
       "      <td>1</td>\n",
       "      <td>35.0</td>\n",
       "      <td>0</td>\n",
       "      <td>0</td>\n",
       "      <td>1</td>\n",
       "      <td>1</td>\n",
       "      <td>281.0</td>\n",
       "      <td>133.0</td>\n",
       "      <td>93.000</td>\n",
       "      <td>32.27</td>\n",
       "      <td>115.0</td>\n",
       "      <td>80.0</td>\n",
       "      <td>0</td>\n",
       "    </tr>\n",
       "    <tr>\n",
       "      <th>3585</th>\n",
       "      <td>0</td>\n",
       "      <td>52</td>\n",
       "      <td>2.0</td>\n",
       "      <td>0</td>\n",
       "      <td>0.0</td>\n",
       "      <td>0</td>\n",
       "      <td>0</td>\n",
       "      <td>0</td>\n",
       "      <td>0</td>\n",
       "      <td>193.0</td>\n",
       "      <td>146.0</td>\n",
       "      <td>89.000</td>\n",
       "      <td>25.37</td>\n",
       "      <td>115.0</td>\n",
       "      <td>84.0</td>\n",
       "      <td>0</td>\n",
       "    </tr>\n",
       "    <tr>\n",
       "      <th>3819</th>\n",
       "      <td>0</td>\n",
       "      <td>53</td>\n",
       "      <td>2.0</td>\n",
       "      <td>0</td>\n",
       "      <td>0.0</td>\n",
       "      <td>0</td>\n",
       "      <td>0</td>\n",
       "      <td>1</td>\n",
       "      <td>0</td>\n",
       "      <td>230.0</td>\n",
       "      <td>170.0</td>\n",
       "      <td>104.575</td>\n",
       "      <td>29.55</td>\n",
       "      <td>115.0</td>\n",
       "      <td>107.0</td>\n",
       "      <td>0</td>\n",
       "    </tr>\n",
       "  </tbody>\n",
       "</table>\n",
       "</div>"
      ],
      "text/plain": [
       "      male  age  education  currentSmoker  cigsPerDay  BPMeds  \\\n",
       "2733     1   53        3.0              1        30.0       1   \n",
       "3233     0   66        1.0              0         0.0       0   \n",
       "3242     1   52        3.0              1        35.0       0   \n",
       "3585     0   52        2.0              0         0.0       0   \n",
       "3819     0   53        2.0              0         0.0       0   \n",
       "\n",
       "      prevalentStroke  prevalentHyp  diabetes  totChol  sysBP    diaBP    BMI  \\\n",
       "2733                0             1         0    190.0  141.0  104.575  21.01   \n",
       "3233                0             1         0    263.0  175.0   95.000  27.07   \n",
       "3242                0             1         1    281.0  133.0   93.000  32.27   \n",
       "3585                0             0         0    193.0  146.0   89.000  25.37   \n",
       "3819                0             1         0    230.0  170.0  104.575  29.55   \n",
       "\n",
       "      heartRate  glucose  TenYearCHD  \n",
       "2733      115.0     86.0           1  \n",
       "3233      115.0     94.0           1  \n",
       "3242      115.0     80.0           0  \n",
       "3585      115.0     84.0           0  \n",
       "3819      115.0    107.0           0  "
      ]
     },
     "execution_count": 176,
     "metadata": {},
     "output_type": "execute_result"
    }
   ],
   "source": [
    "df.loc[df['heartRate']  ==  115]"
   ]
  },
  {
   "cell_type": "code",
   "execution_count": 178,
   "id": "b2edb366-a9dc-49e8-9435-3a5ece1397ce",
   "metadata": {},
   "outputs": [
    {
     "data": {
      "text/plain": [
       "<Axes: ylabel='heartRate'>"
      ]
     },
     "execution_count": 178,
     "metadata": {},
     "output_type": "execute_result"
    },
    {
     "data": {
      "image/png": "[encoded data removed]",
      "text/plain": [
       "<Figure size 640x480 with 1 Axes>"
      ]
     },
     "metadata": {},
     "output_type": "display_data"
    }
   ],
   "source": [
    "sns.boxplot(df['heartRate'])"
   ]
  },
  {
   "cell_type": "markdown",
   "id": "5c99e9eb-2979-4cab-8216-e83f3e874182",
   "metadata": {},
   "source": [
    "#### here the code of, randomized techniques"
   ]
  },
  {
   "cell_type": "code",
   "execution_count": 152,
   "id": "eb2e2805-879d-49d0-ac07-02248c9cbdf7",
   "metadata": {},
   "outputs": [],
   "source": [
    "lower_fence = 53\n",
    "upper_fence = 122\n",
    "\n",
    "df['heartRate'] = df['heartRate'].apply(lambda x: round(np.random.uniform(lower_fence,upper_fence) if x < lower_fence or x > upper_fence else x))\n"
   ]
  },
  {
   "cell_type": "code",
   "execution_count": 153,
   "id": "1c824f43-45bd-4e4c-888e-2066ea5c4ca6",
   "metadata": {},
   "outputs": [
    {
     "data": {
      "text/plain": [
       "heartRate\n",
       "53     11\n",
       "54     15\n",
       "55     37\n",
       "56     22\n",
       "57     18\n",
       "       ..\n",
       "117     3\n",
       "119     1\n",
       "120     7\n",
       "121     3\n",
       "122     2\n",
       "Name: count, Length: 65, dtype: int64"
      ]
     },
     "execution_count": 153,
     "metadata": {},
     "output_type": "execute_result"
    }
   ],
   "source": [
    "df['heartRate'].value_counts().sort_index()"
   ]
  },
  {
   "cell_type": "code",
   "execution_count": 154,
   "id": "868767e7-7a26-4c52-a427-a7b74b9f422a",
   "metadata": {},
   "outputs": [
    {
     "data": {
      "text/plain": [
       "<Axes: ylabel='heartRate'>"
      ]
     },
     "execution_count": 154,
     "metadata": {},
     "output_type": "execute_result"
    },
    {
     "data": {
      "image/png": "[encoded data removed]",
      "text/plain": [
       "<Figure size 640x480 with 1 Axes>"
      ]
     },
     "metadata": {},
     "output_type": "display_data"
    }
   ],
   "source": [
    "sns.boxplot(df['heartRate'])"
   ]
  },
  {
   "cell_type": "markdown",
   "id": "44a835a5-3676-4bab-a4a8-c6cb026a5334",
   "metadata": {},
   "source": [
    "    no neef to remove this outlier, becouse of some time it may be poosible due to fitness"
   ]
  },
  {
   "cell_type": "markdown",
   "id": "f8177582-4d9c-46bf-9b1b-e49f41d2061a",
   "metadata": {},
   "source": [
    "## verifying after handling outliers "
   ]
  },
  {
   "cell_type": "markdown",
   "id": "9d04b1d0-86a4-4a6c-845f-d8770cb62a23",
   "metadata": {},
   "source": [
    "#### visualizing - boxplot"
   ]
  },
  {
   "cell_type": "code",
   "execution_count": 156,
   "id": "298cc098-becf-49cd-874b-a93676e1248c",
   "metadata": {},
   "outputs": [
    {
     "data": {
      "image/png": "[encoded data removed]",
      "text/plain": [
       "<Figure size 1400x700 with 8 Axes>"
      ]
     },
     "metadata": {},
     "output_type": "display_data"
    }
   ],
   "source": [
    "plt.figure(figsize=(14,7))\n",
    "for x in range(0,len(numerical_features)):\n",
    "    plt.subplot(2,4,x+1)\n",
    "    sns.boxplot(x=df[numerical_features[x]])"
   ]
  },
  {
   "cell_type": "markdown",
   "id": "323504f2-3c55-4871-b100-ae5af1532108",
   "metadata": {},
   "source": [
    "#### 0bservation  \n",
    "  - these outliers not need to remove , "
   ]
  },
  {
   "cell_type": "markdown",
   "id": "48fd61a3-475b-4efc-adf7-961af1d5937b",
   "metadata": {},
   "source": [
    "#### checking by z-score "
   ]
  },
  {
   "cell_type": "code",
   "execution_count": 157,
   "id": "e93bdef4-03bc-4138-8c83-2921d919666b",
   "metadata": {},
   "outputs": [
    {
     "data": {
      "image/png": "[encoded data removed]",
      "text/plain": [
       "<Figure size 1400x700 with 8 Axes>"
      ]
     },
     "metadata": {},
     "output_type": "display_data"
    }
   ],
   "source": [
    "plt.figure(figsize=(14,7))\n",
    "for x in range(0,len(numerical_features)):\n",
    "    plt.subplot(2,4,x+1)\n",
    "    sns.kdeplot(x=df[numerical_features[x]],fill =True)"
   ]
  },
  {
   "cell_type": "code",
   "execution_count": 158,
   "id": "b6bb3936-80f5-40fa-887a-f874de54dd76",
   "metadata": {},
   "outputs": [],
   "source": [
    "def check_outlier(data):\n",
    "    list = []\n",
    "    for i in range(0,len(data)):\n",
    "        dataz[data[i]] = zscore(df[data[i]])  # X - mean / standard deviation also mean + 3 * 22[std of feature of glocose ]\n",
    "        outliers = dataz[dataz[data[i]].abs() > 3]\n",
    "        list.append(outliers.shape[0])\n",
    "    return list"
   ]
  },
  {
   "cell_type": "code",
   "execution_count": 159,
   "id": "8b6fe41c-dfad-4c28-8a99-f794e44225da",
   "metadata": {},
   "outputs": [
    {
     "name": "stdout",
     "output_type": "stream",
     "text": [
      " education have 0 outliers \n",
      " cigsPerDay have 0 outliers \n",
      " totChol have 0 outliers \n",
      " sysBP have 0 outliers \n",
      " diaBP have 0 outliers \n",
      " BMI have 60 outliers \n",
      " heartRate have 24 outliers \n",
      " glucose have 0 outliers \n"
     ]
    }
   ],
   "source": [
    "from scipy.stats import zscore\n",
    "dataz = pd.DataFrame()\n",
    "a_list = check_outlier(numerical_features)\n",
    "for x in range(0,len(a_list)):\n",
    "    print(f' {numerical_features[x]} have {a_list[x]} outliers ')"
   ]
  },
  {
   "cell_type": "markdown",
   "id": "6cca34ea-fe30-4f5f-b528-e780b06a0e8d",
   "metadata": {},
   "source": [
    "#### observation \n",
    "\n",
    " - out of 4328 samples  60  peoples have more than 40BMI class3 obesity BMI found , not consider as ooutlier\n",
    " - out of 4328 samples  26 peoples may have to heart rate between 53-60 and 100-122 , we cant consider as outier becouse lack of their fitness knowledge , whether the people is rest time  or not \n"
   ]
  },
  {
   "cell_type": "markdown",
   "id": "0e1000d9-1048-4f82-aaf7-5eb334483f5e",
   "metadata": {},
   "source": [
    "## outlier CATEGORICAL FEATURES "
   ]
  },
  {
   "cell_type": "code",
   "execution_count": 174,
   "id": "cbdd52b4-3b38-44c0-b0fd-bdad90704cf6",
   "metadata": {},
   "outputs": [],
   "source": [
    "df['heartRate'] = df['heartRate'].astype(float)\n",
    "df.rename(columns={'male':'gender'},inplace=True)\n",
    "categorical_feature = [ i for i in df.columns if df[i].dtype != 'float' and  i != 'age']"
   ]
  },
  {
   "cell_type": "code",
   "execution_count": 175,
   "id": "257dca1c-2072-4717-a327-a27f0ebc5d83",
   "metadata": {},
   "outputs": [
    {
     "name": "stdout",
     "output_type": "stream",
     "text": [
      "<class 'pandas.core.frame.DataFrame'>\n",
      "RangeIndex: 4238 entries, 0 to 4237\n",
      "Data columns (total 16 columns):\n",
      " #   Column           Non-Null Count  Dtype  \n",
      "---  ------           --------------  -----  \n",
      " 0   gender           4238 non-null   int64  \n",
      " 1   age              4238 non-null   int64  \n",
      " 2   education        4238 non-null   float64\n",
      " 3   currentSmoker    4238 non-null   int64  \n",
      " 4   cigsPerDay       4238 non-null   float64\n",
      " 5   BPMeds           4238 non-null   int64  \n",
      " 6   prevalentStroke  4238 non-null   int64  \n",
      " 7   prevalentHyp     4238 non-null   int64  \n",
      " 8   diabetes         4238 non-null   int64  \n",
      " 9   totChol          4238 non-null   float64\n",
      " 10  sysBP            4238 non-null   float64\n",
      " 11  diaBP            4238 non-null   float64\n",
      " 12  BMI              4238 non-null   float64\n",
      " 13  heartRate        4238 non-null   float64\n",
      " 14  glucose          4238 non-null   float64\n",
      " 15  TenYearCHD       4238 non-null   int64  \n",
      "dtypes: float64(8), int64(8)\n",
      "memory usage: 529.9 KB\n"
     ]
    }
   ],
   "source": [
    "df.info()"
   ]
  },
  {
   "cell_type": "code",
   "execution_count": 176,
   "id": "fa698861-1fe7-41ac-ba87-4947cd1e6648",
   "metadata": {},
   "outputs": [
    {
     "data": {
      "text/plain": [
       "['gender',\n",
       " 'currentSmoker',\n",
       " 'BPMeds',\n",
       " 'prevalentStroke',\n",
       " 'prevalentHyp',\n",
       " 'diabetes',\n",
       " 'TenYearCHD']"
      ]
     },
     "execution_count": 176,
     "metadata": {},
     "output_type": "execute_result"
    }
   ],
   "source": [
    "categorical_feature"
   ]
  },
  {
   "cell_type": "code",
   "execution_count": 178,
   "id": "726500bc-1393-43aa-a24f-7c6465a2df9a",
   "metadata": {},
   "outputs": [
    {
     "name": "stdout",
     "output_type": "stream",
     "text": [
      " --- \n",
      "\n",
      " gender\n",
      "0    2419\n",
      "1    1819\n",
      "Name: count, dtype: int64\n",
      " --- \n",
      "\n",
      " currentSmoker\n",
      "0    2144\n",
      "1    2094\n",
      "Name: count, dtype: int64\n",
      " --- \n",
      "\n",
      " BPMeds\n",
      "0    4114\n",
      "1     124\n",
      "Name: count, dtype: int64\n",
      " --- \n",
      "\n",
      " prevalentStroke\n",
      "0    4213\n",
      "1      25\n",
      "Name: count, dtype: int64\n",
      " --- \n",
      "\n",
      " prevalentHyp\n",
      "0    2922\n",
      "1    1316\n",
      "Name: count, dtype: int64\n",
      " --- \n",
      "\n",
      " diabetes\n",
      "0    4129\n",
      "1     109\n",
      "Name: count, dtype: int64\n",
      " --- \n",
      "\n",
      " TenYearCHD\n",
      "0    3594\n",
      "1     644\n",
      "Name: count, dtype: int64\n"
     ]
    }
   ],
   "source": [
    "for i in range(0,len(categorical_feature)):\n",
    "    print(f' --- \\n\\n {df[categorical_feature[i]].value_counts()}')\n",
    "\n"
   ]
  },
  {
   "cell_type": "code",
   "execution_count": 184,
   "id": "212f1d74-090a-4dd0-bdd1-a0220537bd4f",
   "metadata": {},
   "outputs": [
    {
     "data": {
      "image/png": "[encoded data removed]",
      "text/plain": [
       "<Figure size 2500x400 with 7 Axes>"
      ]
     },
     "metadata": {},
     "output_type": "display_data"
    }
   ],
   "source": [
    "plt.figure(figsize=(25,4))\n",
    "for x in range(0,len(categorical_feature)):\n",
    "    plt.subplot(1,8,x+1)\n",
    "    df[categorical_feature[x]].value_counts().plot(kind='bar')\n",
    "    plt.xticks([])\n",
    "    plt.yticks([])\n"
   ]
  },
  {
   "cell_type": "markdown",
   "id": "85f41606-7178-492c-82fb-b59facecacca",
   "metadata": {},
   "source": [
    "### proven [ IMBALANANCED DATA ]"
   ]
  },
  {
   "cell_type": "markdown",
   "id": "a94fd5d9-dd96-4823-9d93-6d6bdefa5736",
   "metadata": {},
   "source": [
    "should be solved by class_weight method in logistic regression if we are using logistic  "
   ]
  },
  {
   "cell_type": "markdown",
   "id": "0d451fb8-f355-4634-9baf-6c41d1013bc1",
   "metadata": {},
   "source": [
    "## Duplicate data "
   ]
  },
  {
   "cell_type": "code",
   "execution_count": 185,
   "id": "f78f553b-bffe-4629-8c1d-347bf48966e4",
   "metadata": {},
   "outputs": [],
   "source": [
    "duplicate = df[df.duplicated()]"
   ]
  },
  {
   "cell_type": "code",
   "execution_count": 186,
   "id": "6e371d9d-3241-42c0-893e-56a441bf9cbd",
   "metadata": {},
   "outputs": [
    {
     "data": {
      "text/html": [
       "<div>\n",
       "<style scoped>\n",
       "    .dataframe tbody tr th:only-of-type {\n",
       "        vertical-align: middle;\n",
       "    }\n",
       "\n",
       "    .dataframe tbody tr th {\n",
       "        vertical-align: top;\n",
       "    }\n",
       "\n",
       "    .dataframe thead th {\n",
       "        text-align: right;\n",
       "    }\n",
       "</style>\n",
       "<table border=\"1\" class=\"dataframe\">\n",
       "  <thead>\n",
       "    <tr style=\"text-align: right;\">\n",
       "      <th>male</th>\n",
       "      <th>gender</th>\n",
       "      <th>age</th>\n",
       "      <th>education</th>\n",
       "      <th>currentSmoker</th>\n",
       "      <th>cigsPerDay</th>\n",
       "      <th>BPMeds</th>\n",
       "      <th>prevalentStroke</th>\n",
       "      <th>prevalentHyp</th>\n",
       "      <th>diabetes</th>\n",
       "      <th>totChol</th>\n",
       "      <th>sysBP</th>\n",
       "      <th>diaBP</th>\n",
       "      <th>BMI</th>\n",
       "      <th>heartRate</th>\n",
       "      <th>glucose</th>\n",
       "      <th>TenYearCHD</th>\n",
       "    </tr>\n",
       "  </thead>\n",
       "  <tbody>\n",
       "  </tbody>\n",
       "</table>\n",
       "</div>"
      ],
      "text/plain": [
       "Empty DataFrame\n",
       "Columns: [gender, age, education, currentSmoker, cigsPerDay, BPMeds, prevalentStroke, prevalentHyp, diabetes, totChol, sysBP, diaBP, BMI, heartRate, glucose, TenYearCHD]\n",
       "Index: []"
      ]
     },
     "execution_count": 186,
     "metadata": {},
     "output_type": "execute_result"
    }
   ],
   "source": [
    "duplicate"
   ]
  },
  {
   "cell_type": "markdown",
   "id": "233fc2f7-08d6-4d03-a466-2f15c453a0be",
   "metadata": {},
   "source": [
    "### duplicate on specfic column "
   ]
  },
  {
   "cell_type": "code",
   "execution_count": 187,
   "id": "cf033152-85b5-457c-b4ce-61de1b918950",
   "metadata": {},
   "outputs": [],
   "source": [
    "duplicate_column = df[df.duplicated(subset=df.columns)]"
   ]
  },
  {
   "cell_type": "code",
   "execution_count": 188,
   "id": "f6878e03-a786-468f-98c7-ccf2d8a9a63b",
   "metadata": {},
   "outputs": [
    {
     "data": {
      "text/html": [
       "<div>\n",
       "<style scoped>\n",
       "    .dataframe tbody tr th:only-of-type {\n",
       "        vertical-align: middle;\n",
       "    }\n",
       "\n",
       "    .dataframe tbody tr th {\n",
       "        vertical-align: top;\n",
       "    }\n",
       "\n",
       "    .dataframe thead th {\n",
       "        text-align: right;\n",
       "    }\n",
       "</style>\n",
       "<table border=\"1\" class=\"dataframe\">\n",
       "  <thead>\n",
       "    <tr style=\"text-align: right;\">\n",
       "      <th>male</th>\n",
       "      <th>gender</th>\n",
       "      <th>age</th>\n",
       "      <th>education</th>\n",
       "      <th>currentSmoker</th>\n",
       "      <th>cigsPerDay</th>\n",
       "      <th>BPMeds</th>\n",
       "      <th>prevalentStroke</th>\n",
       "      <th>prevalentHyp</th>\n",
       "      <th>diabetes</th>\n",
       "      <th>totChol</th>\n",
       "      <th>sysBP</th>\n",
       "      <th>diaBP</th>\n",
       "      <th>BMI</th>\n",
       "      <th>heartRate</th>\n",
       "      <th>glucose</th>\n",
       "      <th>TenYearCHD</th>\n",
       "    </tr>\n",
       "  </thead>\n",
       "  <tbody>\n",
       "  </tbody>\n",
       "</table>\n",
       "</div>"
      ],
      "text/plain": [
       "Empty DataFrame\n",
       "Columns: [gender, age, education, currentSmoker, cigsPerDay, BPMeds, prevalentStroke, prevalentHyp, diabetes, totChol, sysBP, diaBP, BMI, heartRate, glucose, TenYearCHD]\n",
       "Index: []"
      ]
     },
     "execution_count": 188,
     "metadata": {},
     "output_type": "execute_result"
    }
   ],
   "source": [
    "duplicate_column"
   ]
  },
  {
   "cell_type": "code",
   "execution_count": 189,
   "id": "9d03fbc6-9797-4d29-8dc7-4f877f4b1dc9",
   "metadata": {},
   "outputs": [
    {
     "data": {
      "text/html": [
       "<div>\n",
       "<style scoped>\n",
       "    .dataframe tbody tr th:only-of-type {\n",
       "        vertical-align: middle;\n",
       "    }\n",
       "\n",
       "    .dataframe tbody tr th {\n",
       "        vertical-align: top;\n",
       "    }\n",
       "\n",
       "    .dataframe thead th {\n",
       "        text-align: right;\n",
       "    }\n",
       "</style>\n",
       "<table border=\"1\" class=\"dataframe\">\n",
       "  <thead>\n",
       "    <tr style=\"text-align: right;\">\n",
       "      <th>male</th>\n",
       "      <th>gender</th>\n",
       "      <th>age</th>\n",
       "      <th>education</th>\n",
       "      <th>currentSmoker</th>\n",
       "      <th>cigsPerDay</th>\n",
       "      <th>BPMeds</th>\n",
       "      <th>prevalentStroke</th>\n",
       "      <th>prevalentHyp</th>\n",
       "      <th>diabetes</th>\n",
       "      <th>totChol</th>\n",
       "      <th>sysBP</th>\n",
       "      <th>diaBP</th>\n",
       "      <th>BMI</th>\n",
       "      <th>heartRate</th>\n",
       "      <th>glucose</th>\n",
       "      <th>TenYearCHD</th>\n",
       "    </tr>\n",
       "  </thead>\n",
       "  <tbody>\n",
       "    <tr>\n",
       "      <th>0</th>\n",
       "      <td>1</td>\n",
       "      <td>39</td>\n",
       "      <td>4.0</td>\n",
       "      <td>0</td>\n",
       "      <td>0.0</td>\n",
       "      <td>0</td>\n",
       "      <td>0</td>\n",
       "      <td>0</td>\n",
       "      <td>0</td>\n",
       "      <td>195.0</td>\n",
       "      <td>106.0</td>\n",
       "      <td>70.0</td>\n",
       "      <td>26.97</td>\n",
       "      <td>80.0</td>\n",
       "      <td>77.0</td>\n",
       "      <td>0</td>\n",
       "    </tr>\n",
       "    <tr>\n",
       "      <th>1</th>\n",
       "      <td>0</td>\n",
       "      <td>46</td>\n",
       "      <td>2.0</td>\n",
       "      <td>0</td>\n",
       "      <td>0.0</td>\n",
       "      <td>0</td>\n",
       "      <td>0</td>\n",
       "      <td>0</td>\n",
       "      <td>0</td>\n",
       "      <td>250.0</td>\n",
       "      <td>121.0</td>\n",
       "      <td>81.0</td>\n",
       "      <td>28.73</td>\n",
       "      <td>95.0</td>\n",
       "      <td>76.0</td>\n",
       "      <td>0</td>\n",
       "    </tr>\n",
       "    <tr>\n",
       "      <th>2</th>\n",
       "      <td>1</td>\n",
       "      <td>48</td>\n",
       "      <td>1.0</td>\n",
       "      <td>1</td>\n",
       "      <td>20.0</td>\n",
       "      <td>0</td>\n",
       "      <td>0</td>\n",
       "      <td>0</td>\n",
       "      <td>0</td>\n",
       "      <td>245.0</td>\n",
       "      <td>127.5</td>\n",
       "      <td>80.0</td>\n",
       "      <td>25.34</td>\n",
       "      <td>75.0</td>\n",
       "      <td>70.0</td>\n",
       "      <td>0</td>\n",
       "    </tr>\n",
       "    <tr>\n",
       "      <th>3</th>\n",
       "      <td>0</td>\n",
       "      <td>61</td>\n",
       "      <td>3.0</td>\n",
       "      <td>1</td>\n",
       "      <td>30.0</td>\n",
       "      <td>0</td>\n",
       "      <td>0</td>\n",
       "      <td>1</td>\n",
       "      <td>0</td>\n",
       "      <td>225.0</td>\n",
       "      <td>150.0</td>\n",
       "      <td>95.0</td>\n",
       "      <td>28.58</td>\n",
       "      <td>65.0</td>\n",
       "      <td>103.0</td>\n",
       "      <td>1</td>\n",
       "    </tr>\n",
       "    <tr>\n",
       "      <th>4</th>\n",
       "      <td>0</td>\n",
       "      <td>46</td>\n",
       "      <td>3.0</td>\n",
       "      <td>1</td>\n",
       "      <td>23.0</td>\n",
       "      <td>0</td>\n",
       "      <td>0</td>\n",
       "      <td>0</td>\n",
       "      <td>0</td>\n",
       "      <td>285.0</td>\n",
       "      <td>130.0</td>\n",
       "      <td>84.0</td>\n",
       "      <td>23.10</td>\n",
       "      <td>85.0</td>\n",
       "      <td>85.0</td>\n",
       "      <td>0</td>\n",
       "    </tr>\n",
       "    <tr>\n",
       "      <th>...</th>\n",
       "      <td>...</td>\n",
       "      <td>...</td>\n",
       "      <td>...</td>\n",
       "      <td>...</td>\n",
       "      <td>...</td>\n",
       "      <td>...</td>\n",
       "      <td>...</td>\n",
       "      <td>...</td>\n",
       "      <td>...</td>\n",
       "      <td>...</td>\n",
       "      <td>...</td>\n",
       "      <td>...</td>\n",
       "      <td>...</td>\n",
       "      <td>...</td>\n",
       "      <td>...</td>\n",
       "      <td>...</td>\n",
       "    </tr>\n",
       "    <tr>\n",
       "      <th>4233</th>\n",
       "      <td>1</td>\n",
       "      <td>50</td>\n",
       "      <td>1.0</td>\n",
       "      <td>1</td>\n",
       "      <td>1.0</td>\n",
       "      <td>0</td>\n",
       "      <td>0</td>\n",
       "      <td>1</td>\n",
       "      <td>0</td>\n",
       "      <td>312.0</td>\n",
       "      <td>175.0</td>\n",
       "      <td>92.0</td>\n",
       "      <td>25.97</td>\n",
       "      <td>66.0</td>\n",
       "      <td>86.0</td>\n",
       "      <td>1</td>\n",
       "    </tr>\n",
       "    <tr>\n",
       "      <th>4234</th>\n",
       "      <td>1</td>\n",
       "      <td>51</td>\n",
       "      <td>3.0</td>\n",
       "      <td>1</td>\n",
       "      <td>40.0</td>\n",
       "      <td>0</td>\n",
       "      <td>0</td>\n",
       "      <td>0</td>\n",
       "      <td>0</td>\n",
       "      <td>207.0</td>\n",
       "      <td>126.5</td>\n",
       "      <td>80.0</td>\n",
       "      <td>19.71</td>\n",
       "      <td>65.0</td>\n",
       "      <td>68.0</td>\n",
       "      <td>0</td>\n",
       "    </tr>\n",
       "    <tr>\n",
       "      <th>4235</th>\n",
       "      <td>0</td>\n",
       "      <td>48</td>\n",
       "      <td>2.0</td>\n",
       "      <td>1</td>\n",
       "      <td>20.0</td>\n",
       "      <td>0</td>\n",
       "      <td>0</td>\n",
       "      <td>0</td>\n",
       "      <td>0</td>\n",
       "      <td>248.0</td>\n",
       "      <td>131.0</td>\n",
       "      <td>72.0</td>\n",
       "      <td>22.00</td>\n",
       "      <td>84.0</td>\n",
       "      <td>86.0</td>\n",
       "      <td>0</td>\n",
       "    </tr>\n",
       "    <tr>\n",
       "      <th>4236</th>\n",
       "      <td>0</td>\n",
       "      <td>44</td>\n",
       "      <td>1.0</td>\n",
       "      <td>1</td>\n",
       "      <td>15.0</td>\n",
       "      <td>0</td>\n",
       "      <td>0</td>\n",
       "      <td>0</td>\n",
       "      <td>0</td>\n",
       "      <td>210.0</td>\n",
       "      <td>126.5</td>\n",
       "      <td>87.0</td>\n",
       "      <td>19.16</td>\n",
       "      <td>86.0</td>\n",
       "      <td>78.0</td>\n",
       "      <td>0</td>\n",
       "    </tr>\n",
       "    <tr>\n",
       "      <th>4237</th>\n",
       "      <td>0</td>\n",
       "      <td>52</td>\n",
       "      <td>2.0</td>\n",
       "      <td>0</td>\n",
       "      <td>0.0</td>\n",
       "      <td>0</td>\n",
       "      <td>0</td>\n",
       "      <td>0</td>\n",
       "      <td>0</td>\n",
       "      <td>269.0</td>\n",
       "      <td>133.5</td>\n",
       "      <td>83.0</td>\n",
       "      <td>21.47</td>\n",
       "      <td>80.0</td>\n",
       "      <td>107.0</td>\n",
       "      <td>0</td>\n",
       "    </tr>\n",
       "  </tbody>\n",
       "</table>\n",
       "<p>4238 rows × 16 columns</p>\n",
       "</div>"
      ],
      "text/plain": [
       "male  gender  age  education  currentSmoker  cigsPerDay  BPMeds  \\\n",
       "0          1   39        4.0              0         0.0       0   \n",
       "1          0   46        2.0              0         0.0       0   \n",
       "2          1   48        1.0              1        20.0       0   \n",
       "3          0   61        3.0              1        30.0       0   \n",
       "4          0   46        3.0              1        23.0       0   \n",
       "...      ...  ...        ...            ...         ...     ...   \n",
       "4233       1   50        1.0              1         1.0       0   \n",
       "4234       1   51        3.0              1        40.0       0   \n",
       "4235       0   48        2.0              1        20.0       0   \n",
       "4236       0   44        1.0              1        15.0       0   \n",
       "4237       0   52        2.0              0         0.0       0   \n",
       "\n",
       "male  prevalentStroke  prevalentHyp  diabetes  totChol  sysBP  diaBP    BMI  \\\n",
       "0                   0             0         0    195.0  106.0   70.0  26.97   \n",
       "1                   0             0         0    250.0  121.0   81.0  28.73   \n",
       "2                   0             0         0    245.0  127.5   80.0  25.34   \n",
       "3                   0             1         0    225.0  150.0   95.0  28.58   \n",
       "4                   0             0         0    285.0  130.0   84.0  23.10   \n",
       "...               ...           ...       ...      ...    ...    ...    ...   \n",
       "4233                0             1         0    312.0  175.0   92.0  25.97   \n",
       "4234                0             0         0    207.0  126.5   80.0  19.71   \n",
       "4235                0             0         0    248.0  131.0   72.0  22.00   \n",
       "4236                0             0         0    210.0  126.5   87.0  19.16   \n",
       "4237                0             0         0    269.0  133.5   83.0  21.47   \n",
       "\n",
       "male  heartRate  glucose  TenYearCHD  \n",
       "0          80.0     77.0           0  \n",
       "1          95.0     76.0           0  \n",
       "2          75.0     70.0           0  \n",
       "3          65.0    103.0           1  \n",
       "4          85.0     85.0           0  \n",
       "...         ...      ...         ...  \n",
       "4233       66.0     86.0           1  \n",
       "4234       65.0     68.0           0  \n",
       "4235       84.0     86.0           0  \n",
       "4236       86.0     78.0           0  \n",
       "4237       80.0    107.0           0  \n",
       "\n",
       "[4238 rows x 16 columns]"
      ]
     },
     "execution_count": 189,
     "metadata": {},
     "output_type": "execute_result"
    }
   ],
   "source": [
    "df"
   ]
  },
  {
   "cell_type": "code",
   "execution_count": 190,
   "id": "3d443ec5-732a-44c2-b3f9-4de8afece4fe",
   "metadata": {},
   "outputs": [],
   "source": [
    "df.to_csv('data_cleaned1.csv',index=False)"
   ]
  },
  {
   "cell_type": "code",
   "execution_count": null,
   "id": "531bfca9-60f5-46e5-b3cd-7b38b335f706",
   "metadata": {},
   "outputs": [],
   "source": []
  }
 ],
 "metadata": {
  "kernelspec": {
   "display_name": "Python 3",
   "language": "python",
   "name": "python3"
  },
  "language_info": {
   "codemirror_mode": {
    "name": "ipython",
    "version": 3
   },
   "file_extension": ".py",
   "mimetype": "text/x-python",
   "name": "python",
   "nbconvert_exporter": "python",
   "pygments_lexer": "ipython3",
   "version": "3.12.9"
  }
 },
 "nbformat": 4,
 "nbformat_minor": 5
}
